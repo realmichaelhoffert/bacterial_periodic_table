{
 "cells": [
  {
   "cell_type": "code",
   "execution_count": 1,
   "id": "645c0eac-103d-472d-98a7-2cebc304fe91",
   "metadata": {},
   "outputs": [],
   "source": [
    "%load_ext autoreload\n",
    "%autoreload 2"
   ]
  },
  {
   "cell_type": "code",
   "execution_count": 2,
   "id": "2492f892-6140-4352-86a5-a957a6d2f060",
   "metadata": {},
   "outputs": [],
   "source": [
    "import sys\n",
    "sys.path = ['/data/mhoffert/tools/ete/'] + sys.path[:-1]\n",
    "from ete3 import Tree\n",
    "from ete3.treeview import faces, AttrFace, TextFace, TreeStyle, NodeStyle, CircleFace, RectFace\n",
    "\n",
    "# python libraries\n",
    "import pickle\n",
    "import os\n",
    "import itertools\n",
    "\n",
    "# data\n",
    "import pandas as pd\n",
    "import numpy as np\n",
    "\n",
    "# plotting\n",
    "import seaborn as sns\n",
    "import matplotlib.pyplot as plt\n",
    "import matplotlib\n",
    "import matplotlib.cm as cm\n",
    "import matplotlib.patches as patches\n",
    "from matplotlib.colors import to_hex\n",
    "\n",
    "# additional plotting code\n",
    "import sys\n",
    "import time\n",
    "sys.path.append('/data/mhoffert/fiererlab/periodic_phyla/code/')\n",
    "\n",
    "# displays\n",
    "from IPython.display import display, clear_output\n",
    "\n",
    "# ENS-t-SNE\n",
    "sys.path.append('/data/mhoffert/tools/MPSE-TSNE/ENS-t-SNE/')\n",
    "import mview\n",
    "\n",
    "# for visualizing trees\n",
    "os.environ['QT_QPA_PLATFORM']='offscreen'\n"
   ]
  },
  {
   "cell_type": "markdown",
   "id": "27d66888-5c16-4c85-b08c-a2046c6bb3ed",
   "metadata": {},
   "source": [
    "## Outline\n",
    "Finalized code to make the periodic table figure."
   ]
  },
  {
   "cell_type": "code",
   "execution_count": 3,
   "id": "028fde36-c801-48c3-a8bb-53aa3ddc7f11",
   "metadata": {},
   "outputs": [
    {
     "data": {
      "text/plain": [
       "'3.1.2'"
      ]
     },
     "execution_count": 3,
     "metadata": {},
     "output_type": "execute_result"
    }
   ],
   "source": [
    "import ete3 as ete3\n",
    "ete3.__version__"
   ]
  },
  {
   "cell_type": "markdown",
   "id": "6e5fb062-c53c-49f1-a636-a1beb36f32a5",
   "metadata": {},
   "source": [
    "# Figure 1: Example figure"
   ]
  },
  {
   "cell_type": "markdown",
   "id": "c097048f-4429-4f68-8742-48802988b266",
   "metadata": {},
   "source": [
    "### Load data and wavelets"
   ]
  },
  {
   "cell_type": "code",
   "execution_count": 15,
   "id": "fd8e6406-e3b0-4074-8290-8c9252e006ba",
   "metadata": {},
   "outputs": [
    {
     "data": {
      "text/html": [
       "<div>\n",
       "<style scoped>\n",
       "    .dataframe tbody tr th:only-of-type {\n",
       "        vertical-align: middle;\n",
       "    }\n",
       "\n",
       "    .dataframe tbody tr th {\n",
       "        vertical-align: top;\n",
       "    }\n",
       "\n",
       "    .dataframe thead th {\n",
       "        text-align: right;\n",
       "    }\n",
       "</style>\n",
       "<table border=\"1\" class=\"dataframe\">\n",
       "  <thead>\n",
       "    <tr style=\"text-align: right;\">\n",
       "      <th></th>\n",
       "      <th>Trait 1</th>\n",
       "      <th>Trait 2</th>\n",
       "      <th>Trait 3</th>\n",
       "    </tr>\n",
       "  </thead>\n",
       "  <tbody>\n",
       "    <tr>\n",
       "      <th>c22</th>\n",
       "      <td>0.0</td>\n",
       "      <td>0.024332</td>\n",
       "      <td>3557.092657</td>\n",
       "    </tr>\n",
       "    <tr>\n",
       "      <th>c21</th>\n",
       "      <td>0.0</td>\n",
       "      <td>0.000000</td>\n",
       "      <td>2719.615097</td>\n",
       "    </tr>\n",
       "    <tr>\n",
       "      <th>c20</th>\n",
       "      <td>0.0</td>\n",
       "      <td>0.000000</td>\n",
       "      <td>3262.285718</td>\n",
       "    </tr>\n",
       "    <tr>\n",
       "      <th>c19</th>\n",
       "      <td>0.0</td>\n",
       "      <td>0.000000</td>\n",
       "      <td>2983.814139</td>\n",
       "    </tr>\n",
       "    <tr>\n",
       "      <th>c18</th>\n",
       "      <td>0.0</td>\n",
       "      <td>0.000000</td>\n",
       "      <td>2790.108066</td>\n",
       "    </tr>\n",
       "  </tbody>\n",
       "</table>\n",
       "</div>"
      ],
      "text/plain": [
       "     Trait 1   Trait 2      Trait 3\n",
       "c22      0.0  0.024332  3557.092657\n",
       "c21      0.0  0.000000  2719.615097\n",
       "c20      0.0  0.000000  3262.285718\n",
       "c19      0.0  0.000000  2983.814139\n",
       "c18      0.0  0.000000  2790.108066"
      ]
     },
     "execution_count": 15,
     "metadata": {},
     "output_type": "execute_result"
    }
   ],
   "source": [
    "# load wavelets\n",
    "with open('/data/mhoffert/fiererlab/periodic_phyla/data/wavelet_data/testtraitdata.pkl', 'rb') as handle:\n",
    "    fig1_data = pickle.load(handle)\n",
    "\n",
    "# reset index\n",
    "fig1_data.index = [f'c{i:02}' for i in range(22, 0, -1)]\n",
    "\n",
    "fig1_data = fig1_data.rename(columns={'Trait 1':'Trait 2', 'Trait 2':'Trait 1'}).sort_index(axis=1)\n",
    "fig1_data.head()"
   ]
  },
  {
   "cell_type": "code",
   "execution_count": 72,
   "id": "f340bea5-de00-4786-8480-9d653c0460f4",
   "metadata": {},
   "outputs": [
    {
     "data": {
      "text/html": [
       "<div>\n",
       "<style scoped>\n",
       "    .dataframe tbody tr th:only-of-type {\n",
       "        vertical-align: middle;\n",
       "    }\n",
       "\n",
       "    .dataframe tbody tr th {\n",
       "        vertical-align: top;\n",
       "    }\n",
       "\n",
       "    .dataframe thead th {\n",
       "        text-align: right;\n",
       "    }\n",
       "</style>\n",
       "<table border=\"1\" class=\"dataframe\">\n",
       "  <thead>\n",
       "    <tr style=\"text-align: right;\">\n",
       "      <th></th>\n",
       "      <th>Trait 1</th>\n",
       "      <th>Trait 2</th>\n",
       "      <th>Trait 3</th>\n",
       "    </tr>\n",
       "  </thead>\n",
       "  <tbody>\n",
       "    <tr>\n",
       "      <th>i21</th>\n",
       "      <td>0.000000e+00</td>\n",
       "      <td>0.017205</td>\n",
       "      <td>592.186061</td>\n",
       "    </tr>\n",
       "    <tr>\n",
       "      <th>i20</th>\n",
       "      <td>6.938894e-18</td>\n",
       "      <td>0.009933</td>\n",
       "      <td>-101.189925</td>\n",
       "    </tr>\n",
       "    <tr>\n",
       "      <th>i19</th>\n",
       "      <td>0.000000e+00</td>\n",
       "      <td>0.000000</td>\n",
       "      <td>136.970877</td>\n",
       "    </tr>\n",
       "    <tr>\n",
       "      <th>i18</th>\n",
       "      <td>-6.938894e-18</td>\n",
       "      <td>0.008885</td>\n",
       "      <td>320.640497</td>\n",
       "    </tr>\n",
       "    <tr>\n",
       "      <th>i17</th>\n",
       "      <td>1.387779e-17</td>\n",
       "      <td>-0.030143</td>\n",
       "      <td>-163.199411</td>\n",
       "    </tr>\n",
       "  </tbody>\n",
       "</table>\n",
       "</div>"
      ],
      "text/plain": [
       "          Trait 1   Trait 2     Trait 3\n",
       "i21  0.000000e+00  0.017205  592.186061\n",
       "i20  6.938894e-18  0.009933 -101.189925\n",
       "i19  0.000000e+00  0.000000  136.970877\n",
       "i18 -6.938894e-18  0.008885  320.640497\n",
       "i17  1.387779e-17 -0.030143 -163.199411"
      ]
     },
     "execution_count": 72,
     "metadata": {},
     "output_type": "execute_result"
    }
   ],
   "source": [
    "# load wavelets\n",
    "fig1_wavelets = pd.read_csv('/data/mhoffert/fiererlab/periodic_phyla/data/wavelet_data/test_centered_wavelet_coef_noisy.csv', header=None).T.iloc[:-1, :]\n",
    "internal_nodes = [n.name for n in fig1_tree.traverse(strategy='postorder') if not n.is_leaf()]\n",
    "\n",
    "fig1_wavelets.index = internal_nodes\n",
    "\n",
    "\n",
    "fig1_wavelets = fig1_wavelets.rename(columns={0:'Trait 2', 1:'Trait 1', 2:'Trait 3'}).sort_index(axis=1)\n",
    "\n",
    "fig1_wavelets.head()"
   ]
  },
  {
   "cell_type": "code",
   "execution_count": 19,
   "id": "966d7614-e54e-4af6-80d1-be9ad0681e0b",
   "metadata": {},
   "outputs": [
    {
     "name": "stderr",
     "output_type": "stream",
     "text": [
      "divide by zero encountered in log10\n",
      "invalid value encountered in log10\n"
     ]
    },
    {
     "data": {
      "text/plain": [
       "<Axes: ylabel='Count'>"
      ]
     },
     "execution_count": 19,
     "metadata": {},
     "output_type": "execute_result"
    },
    {
     "data": {
      "image/png": "[encoded data removed]",
      "text/plain": [
       "<Figure size 432x288 with 1 Axes>"
      ]
     },
     "metadata": {
      "needs_background": "light"
     },
     "output_type": "display_data"
    }
   ],
   "source": [
    "sns.histplot(fig1_wavelets.apply(lambda x: np.log10(x)))\n"
   ]
  },
  {
   "cell_type": "markdown",
   "id": "9ed72a51-42af-48e5-a588-b10d920193a5",
   "metadata": {},
   "source": [
    "### Load tree"
   ]
  },
  {
   "cell_type": "code",
   "execution_count": 20,
   "id": "92bf354a-19e9-4e7d-9545-662864c43fb9",
   "metadata": {},
   "outputs": [],
   "source": [
    "# load tree\n",
    "fig1_tree = Tree('/data/mhoffert/fiererlab/periodic_phyla/data/wavelet_data/61_otus_unannotated.tree', format=1, quoted_node_names=True)\n",
    "\n",
    "# relabel leaves and nodes in postorder\n",
    "c = 22\n",
    "i = 21\n",
    "for node in fig1_tree.traverse(strategy='postorder'):\n",
    "    if node.is_leaf():\n",
    "        node.name = f'c{c:02}'\n",
    "        c -= 1\n",
    "    else:\n",
    "        node.name = f'i{i:02}'\n",
    "        i -= 1"
   ]
  },
  {
   "cell_type": "code",
   "execution_count": 21,
   "id": "fc6f1cf4-0cb2-4974-8a24-a09e7076a71b",
   "metadata": {},
   "outputs": [],
   "source": [
    "def fig1_layout(node, tip_data, wavelet_data, trait):\n",
    "    '''\n",
    "    Layout function for tree generated by collapse_to_phylum\n",
    "    '''\n",
    "    # print(node.name)\n",
    "    internal_ns = NodeStyle()\n",
    "    internal_ns['size'] = 0\n",
    "    internal_ns['vt_line_width'] = 1\n",
    "    internal_ns['hz_line_width'] = 1\n",
    "    \n",
    "    if node.is_leaf():\n",
    "        cm = matplotlib.colormaps['gnuplot']\n",
    "        if tip_data.loc[node.name, trait] != 0:\n",
    "            c = to_hex(cm(tip_data.loc[node.name, trait]))\n",
    "        else:\n",
    "            c = '#808080'\n",
    "        R1 = RectFace(width=4, height=4, fgcolor=c, bgcolor=c)\n",
    "        faces.add_face_to_node(R1, node, 0, position='aligned')\n",
    "    else:\n",
    "        ''\n",
    "        t1 = TextFace(node.name)\n",
    "        faces.add_face_to_node(t1, node, 0)\n",
    "        # if np.abs(wavelet_data.loc[node.name, trait]) > 1e-15:\n",
    "        #     internal_ns['size'] = 10\n",
    "        \n",
    "\n",
    "    node.img_style = internal_ns\n",
    "\n",
    "def fig1_ts(**args):\n",
    "    ts = TreeStyle()\n",
    "    ts.layout_fn = lambda n: fig1_layout(n, **args)\n",
    "    # ts.mode = 'c'\n",
    "    ts.draw_guiding_lines = True\n",
    "    ts.show_leaf_name = True\n",
    "    return ts\n",
    "    "
   ]
  },
  {
   "cell_type": "code",
   "execution_count": 22,
   "id": "d120fed7-943c-468c-aa4b-22ada9e8ab05",
   "metadata": {},
   "outputs": [
    {
     "data": {
      "image/png": "[encoded data removed]",
      "text/plain": [
       "<IPython.core.display.Image object>"
      ]
     },
     "execution_count": 22,
     "metadata": {},
     "output_type": "execute_result"
    }
   ],
   "source": [
    "# fig1_tree.render('%%inline', tree_style=fig1_ts(tip_data=fig1_data, wavelet_data=fig1_wavelets, trait='Trait 2'), w=500, h=500)\n",
    "fig1_tree.render('%%inline', tree_style=fig1_ts(tip_data=fig1_data, wavelet_data=fig1_wavelets, trait='Trait 2')) #, w=500, h=500)\n"
   ]
  },
  {
   "cell_type": "code",
   "execution_count": 23,
   "id": "2f9a8bc8-2630-45e6-ab6f-bfc43ab97b86",
   "metadata": {},
   "outputs": [],
   "source": [
    "rendered = fig1_tree.render('/data/mhoffert/fiererlab/periodic_phyla/figures/group_meeting_figures/fig1_tree.svg', \n",
    "                            tree_style=fig1_ts(tip_data=fig1_data, wavelet_data=fig1_wavelets, trait='Trait 1'), \n",
    "                            dpi=400) #  w=500, h=500)"
   ]
  },
  {
   "cell_type": "code",
   "execution_count": 82,
   "id": "578f8bc2-73c4-4bfc-8976-1113af3de22b",
   "metadata": {},
   "outputs": [],
   "source": [
    "nodes = [n.name for n in fig1_tree.traverse(strategy='postorder') if not n.is_leaf()]\n",
    "node_postorders = dict((n, i) for n, i in zip(nodes, np.linspace(1, 0, len(nodes))))\n",
    "\n",
    "leaves = [l.name for l in fig1_tree.traverse(strategy='postorder') if l.is_leaf()]\n",
    "leaf_postorders = dict((l, i) for l, i in zip(leaves, np.linspace(1, 0, len(leaves))))"
   ]
  },
  {
   "cell_type": "code",
   "execution_count": 83,
   "id": "bc46c3a8-a096-44ff-aa5e-f048f62637e4",
   "metadata": {},
   "outputs": [],
   "source": [
    "def fig1_post_layout(node, n_po, l_po, color=True):\n",
    "    '''\n",
    "    Layout function for tree generated by collapse_to_phylum\n",
    "    '''\n",
    "    # print(node.name)\n",
    "    internal_ns = NodeStyle()\n",
    "    internal_ns['size'] = 0\n",
    "    # internal_ns['vt_line_width'] = 1\n",
    "    # internal_ns['hz_line_width'] = 1\n",
    "    \n",
    "    cm = matplotlib.colormaps['gnuplot']\n",
    "    \n",
    "    if node.is_leaf():\n",
    "        \n",
    "        c = to_hex(cm(l_po[node.name]))\n",
    "        if color:\n",
    "            R1 = RectFace(width=4, height=4, fgcolor=c, bgcolor=c)\n",
    "            faces.add_face_to_node(R1, node, 0, position='aligned')\n",
    "            \n",
    "        t1 = TextFace(node.name, ftype='Helvetica', fsize=5)\n",
    "        faces.add_face_to_node(t1, node, 0, position='aligned')\n",
    "        \n",
    "    else:\n",
    "        if color:\n",
    "            internal_ns['vt_line_color'] = to_hex(cm(n_po[node.name]))\n",
    "            internal_ns['hz_line_color'] = to_hex(cm(n_po[node.name]))\n",
    "        \n",
    "    node.img_style = internal_ns\n",
    "\n",
    "def fig1_post_ts(**args):\n",
    "    ts = TreeStyle()\n",
    "    ts.layout_fn = lambda n: fig1_post_layout(n, **args)\n",
    "    # ts.mode = 'c'\n",
    "    ts.draw_guiding_lines = True\n",
    "    ts.show_leaf_name = False\n",
    "    ts.branch_vertical_margin = 5\n",
    "    ts.show_scale = False\n",
    "    # ts.scale = 500\n",
    "    ts.force_topology = True\n",
    "    return ts"
   ]
  },
  {
   "cell_type": "code",
   "execution_count": 84,
   "id": "292be556-135a-442b-a3ad-de1d59e55018",
   "metadata": {},
   "outputs": [
    {
     "data": {
      "image/png": "[encoded data removed]",
      "text/plain": [
       "<IPython.core.display.Image object>"
      ]
     },
     "execution_count": 84,
     "metadata": {},
     "output_type": "execute_result"
    }
   ],
   "source": [
    "fig1_tree.render('%%inline', tree_style=fig1_post_ts(n_po=node_postorders, l_po=leaf_postorders, color=False), h=500, w=500)\n"
   ]
  },
  {
   "cell_type": "code",
   "execution_count": 28,
   "id": "e3d3cfeb-29a0-4a5e-9fbb-7226370b08ef",
   "metadata": {},
   "outputs": [],
   "source": [
    "rendered = fig1_tree.render('/data/mhoffert/fiererlab/periodic_phyla/figures/group_meeting_figures/fig1_tree_nolabel.svg', \n",
    "                 tree_style=fig1_post_ts(n_po=node_postorders, l_po=leaf_postorders, color=False), \n",
    "                 h=500, w=500)"
   ]
  },
  {
   "cell_type": "code",
   "execution_count": 29,
   "id": "26a70089-8324-473d-834e-b56631de54ee",
   "metadata": {},
   "outputs": [],
   "source": [
    "rendered = fig1_tree.render('/data/mhoffert/fiererlab/periodic_phyla/figures/group_meeting_figures/fig1_tree_nolabel_colored.svg', \n",
    "                 tree_style=fig1_post_ts(n_po=node_postorders, l_po=leaf_postorders, color=True), \n",
    "                 h=500, w=500)"
   ]
  },
  {
   "cell_type": "code",
   "execution_count": 30,
   "id": "4de37b10-8622-44e3-ab57-b4d211598333",
   "metadata": {},
   "outputs": [
    {
     "data": {
      "image/png": "[encoded data removed]",
      "text/plain": [
       "<Figure size 720x72 with 1 Axes>"
      ]
     },
     "metadata": {
      "needs_background": "light"
     },
     "output_type": "display_data"
    }
   ],
   "source": [
    "_cmap = cm.gnuplot\n",
    "sns.palplot([_cmap(i) for i in np.linspace(0,1,10)])\n"
   ]
  },
  {
   "cell_type": "code",
   "execution_count": 32,
   "id": "5a6b22d7-e3e9-483d-a281-94dabf1d141a",
   "metadata": {},
   "outputs": [
    {
     "data": {
      "image/png": "[encoded data removed]",
      "text/plain": [
       "<Figure size 360x432 with 3 Axes>"
      ]
     },
     "metadata": {
      "needs_background": "light"
     },
     "output_type": "display_data"
    }
   ],
   "source": [
    "fig = plt.figure(figsize=(5,6))\n",
    "for color, (i, col) in zip([['white', 'darkblue'], 'Reds', 'Greens'], enumerate(fig1_data.columns)):\n",
    "    ax = fig.add_subplot(1,3,i+1)\n",
    "    sns.barplot( y=fig1_data[col].index,\n",
    "                # x=fig1_data.iloc[::-1][col],\n",
    "                x=fig1_data[col],\n",
    "                #s=150, \n",
    "                hue=fig1_data.iloc[::-1][col],\n",
    "                palette=color,\n",
    "                   linewidth=1,\n",
    "                   edgecolor='k',\n",
    "                   legend=False)\n",
    "    sns.despine()\n",
    "    ax.set_title(col, fontsize=16)\n",
    "    plt.tick_params(labelleft=False, labelsize=14)\n",
    "    ax.set_xlabel('')\n",
    "    ax.set_ylabel('')\n",
    "    \n",
    "    if i ==2:\n",
    "        ax.set_xlim(-500, 5500)\n",
    "    else:\n",
    "        ax.set_xlim(-0.25, 1.25)\n",
    "plt.savefig('/data/mhoffert/fiererlab/periodic_phyla/figures/group_meeting_figures/fig1_traits.svg', bbox_inches='tight', dpi=400)"
   ]
  },
  {
   "cell_type": "code",
   "execution_count": 33,
   "id": "e5f4e76f-73e4-45a4-bedb-efd6cd51cc3b",
   "metadata": {},
   "outputs": [
    {
     "data": {
      "image/png": "[encoded data removed]",
      "text/plain": [
       "<Figure size 432x360 with 3 Axes>"
      ]
     },
     "metadata": {
      "needs_background": "light"
     },
     "output_type": "display_data"
    }
   ],
   "source": [
    "# rotated scatterplot\n",
    "fig = plt.figure(figsize=(6,5))\n",
    "for color, (i, col) in zip([['white', 'darkblue'], 'Reds', 'Greens'], enumerate(fig1_data.columns)):\n",
    "    ax = fig.add_subplot(3,1,i+1)\n",
    "    sns.scatterplot(x=list(range(len(fig1_data.iloc[::-1][col]))),\n",
    "                    y=fig1_data.iloc[::-1][col].values,\n",
    "                # x=fig1_data[col],\n",
    "                s=150, \n",
    "                hue=fig1_data.iloc[::-1][col],\n",
    "                palette=color,\n",
    "                   linewidth=1,\n",
    "                   edgecolor='k',\n",
    "                   legend=False)\n",
    "    sns.despine()\n",
    "    # ax.set_title(col, fontsize=16)\n",
    "    plt.tick_params(labelbottom=False, labelsize=14)\n",
    "    ax.set_xlabel('')\n",
    "    ax.set_ylabel(col, fontsize=16, rotation=0, ha='right', va='center')\n",
    "    \n",
    "    if i ==2:\n",
    "        ax.set_ylim(-500, 5500)\n",
    "    else:\n",
    "        ax.set_ylim(-0.25, 1.25)\n",
    "        \n",
    "fig.subplots_adjust(hspace=0.3)\n",
    "plt.savefig('/data/mhoffert/fiererlab/periodic_phyla/figures/group_meeting_figures/fig1_traits_rotated_scatter.svg', \n",
    "            bbox_inches='tight', dpi=400)"
   ]
  },
  {
   "cell_type": "code",
   "execution_count": 73,
   "id": "d2dde3ea-f196-458c-a1d5-dfd1ad75f8b9",
   "metadata": {},
   "outputs": [
    {
     "data": {
      "image/png": "[encoded data removed]",
      "text/plain": [
       "<Figure size 432x432 with 3 Axes>"
      ]
     },
     "metadata": {
      "needs_background": "light"
     },
     "output_type": "display_data"
    }
   ],
   "source": [
    "cm = matplotlib.colormaps['gnuplot']\n",
    "\n",
    "fig = plt.figure(figsize=(6,6))\n",
    "for i, col in enumerate(fig1_wavelets):\n",
    "    ax = fig.add_subplot(1,3,i+1)\n",
    "    for yval, (index, item) in enumerate(fig1_wavelets.iloc[::-1][col].items()):\n",
    "        plt.plot((0, item), (yval, yval), color=cm(node_postorders[index]), linewidth=5)\n",
    "    sns.despine()\n",
    "    ax.set_title(col, fontsize=16)\n",
    "    plt.tick_params(left=False, labelleft=False, labelsize=14)\n",
    "    xlims = ax.get_xlim()\n",
    "    ax.set_xlim(xlims[0]*1.1, xlims[1]*1.1)\n",
    "    if i == 0:\n",
    "        ax.set_yticks(range(len(fig1_wavelets.iloc[::-1].index)))\n",
    "        ax.set_yticklabels(fig1_wavelets.iloc[::-1].index)\n",
    "        plt.tick_params(left=True, labelleft=True, labelsize=14)\n",
    "    # if i ==2:\n",
    "    #     ax.set_xlim(-500, 5500)\n",
    "    # else:\n",
    "    #     ax.set_xlim(-0.25, 1.25)\n",
    "    ax.axvline(0, zorder=0, color='gray', alpha=0.5)\n",
    "    \n",
    "fig.subplots_adjust(wspace=0.5)\n",
    "# plt.savefig('/data/mhoffert/fiererlab/periodic_phyla/figures/group_meeting_figures/fig1_wavelets.svg', bbox_inches='tight', dpi=400)"
   ]
  },
  {
   "cell_type": "code",
   "execution_count": 93,
   "id": "96c0c29d-d988-476b-8be4-b3f15c736f07",
   "metadata": {},
   "outputs": [],
   "source": [
    "def compute_loc(node, locs):\n",
    "    if node.is_leaf():\n",
    "        return locs.loc[node.name]\n",
    "    else:\n",
    "        children = node.get_children()\n",
    "        ly = compute_loc(children[0], locs)\n",
    "        lr = compute_loc(children[1], locs)\n",
    "        \n",
    "        return (ly + lr) / 2\n"
   ]
  },
  {
   "cell_type": "code",
   "execution_count": 95,
   "id": "b2afabd1-57c4-40bd-9539-ec8fc15f6fdd",
   "metadata": {},
   "outputs": [],
   "source": [
    "get_leaf_names = lambda node: [l.name for l in node.get_leaves()]\n",
    "\n",
    "node_xlocs = pd.Series()\n",
    "for i in fig1_tree.traverse():\n",
    "    node_xlocs.loc[i.name] = compute_loc(i, pd.Series(leaf_postorders))"
   ]
  },
  {
   "cell_type": "code",
   "execution_count": 103,
   "id": "c468edb6-66d6-4f34-9a8c-093d82114cc5",
   "metadata": {},
   "outputs": [
    {
     "data": {
      "image/png": "[encoded data removed]",
      "text/plain": [
       "<Figure size 432x360 with 3 Axes>"
      ]
     },
     "metadata": {
      "needs_background": "light"
     },
     "output_type": "display_data"
    }
   ],
   "source": [
    "cm = matplotlib.colormaps['gnuplot']\n",
    "\n",
    "fig = plt.figure(figsize=(6,5))\n",
    "for i, col in enumerate(fig1_wavelets.sort_index(axis=1)):\n",
    "    ax = fig.add_subplot(3, 1, i+1)\n",
    "    for index, item in fig1_wavelets[col].items():\n",
    "        xval = node_xlocs.loc[index]\n",
    "        # print(index, xval)\n",
    "        plt.plot((xval, xval), \n",
    "                 (0, item), \n",
    "                 color=cm(node_xlocs[index]), \n",
    "                 linewidth=4, \n",
    "                 solid_capstyle='butt')\n",
    "    sns.despine()\n",
    "    ax.set_ylabel(col, ha='right', va='center', fontsize=16, rotation=0)\n",
    "    plt.tick_params(bottom=False, labelbottom=False, labelsize=14)\n",
    "    ylims = ax.get_ylim()\n",
    "    # ax.set_ylim(ylims[0]*1.1, ylims[1]*1.1)\n",
    "    # if i == 2:\n",
    "    #     ax.set_xticks(range(len(fig1_wavelets.iloc[::-1].index)))\n",
    "    #     ax.set_xticklabels(fig1_wavelets.iloc[::-1].index)\n",
    "    #     plt.tick_params(bottom=True, labelbottom=True, labelsize=14)\n",
    "    # if i ==2:\n",
    "    #     ax.set_xlim(-500, 5500)\n",
    "    # else:\n",
    "    #     ax.set_xlim(-0.25, 1.25)\n",
    "    ax.axhline(0, zorder=0, color='gray', alpha=0.5)\n",
    "    \n",
    "fig.subplots_adjust(wspace=0.5)\n",
    "plt.savefig('/data/mhoffert/fiererlab/periodic_phyla/figures/group_meeting_figures/fig1_wavelets_rotated.svg', bbox_inches='tight', dpi=400)"
   ]
  },
  {
   "cell_type": "code",
   "execution_count": 77,
   "id": "dc3c98e0-62e7-4eb7-9382-dd1606160042",
   "metadata": {},
   "outputs": [
    {
     "data": {
      "text/plain": [
       "i01    0.500000\n",
       "i15    0.166667\n",
       "i02    0.690476\n",
       "i17    0.119048\n",
       "i16    0.309524\n",
       "i14    0.404762\n",
       "i03    0.738095\n",
       "i18    0.095238\n",
       "c17    0.238095\n",
       "c16    0.285714\n",
       "c15    0.333333\n",
       "c14    0.380952\n",
       "c13    0.428571\n",
       "i05    0.690476\n",
       "i04    0.976190\n",
       "i20    0.047619\n",
       "i19    0.166667\n",
       "i06    0.666667\n",
       "c03    0.904762\n",
       "c02    0.952381\n",
       "c01    1.000000\n",
       "i21    0.023810\n",
       "c20    0.095238\n",
       "c19    0.142857\n",
       "c18    0.190476\n",
       "i07    0.642857\n",
       "c04    0.857143\n",
       "c22    0.000000\n",
       "c21    0.047619\n",
       "i08    0.619048\n",
       "c05    0.809524\n",
       "c12    0.476190\n",
       "i09    0.642857\n",
       "c11    0.523810\n",
       "i10    0.666667\n",
       "i12    0.619048\n",
       "i11    0.738095\n",
       "i13    0.595238\n",
       "c08    0.666667\n",
       "c07    0.714286\n",
       "c06    0.761905\n",
       "c10    0.571429\n",
       "c09    0.619048\n",
       "dtype: float64"
      ]
     },
     "execution_count": 77,
     "metadata": {},
     "output_type": "execute_result"
    }
   ],
   "source": [
    "node_xlocs"
   ]
  },
  {
   "cell_type": "code",
   "execution_count": 104,
   "id": "c32c8bc4-555a-45b3-8a63-b963d2a1b26e",
   "metadata": {},
   "outputs": [],
   "source": [
    "from sklearn.manifold import TSNE"
   ]
  },
  {
   "cell_type": "code",
   "execution_count": 105,
   "id": "6cff0974-0740-43cd-a07f-59aca897414b",
   "metadata": {},
   "outputs": [],
   "source": [
    "from scipy.optimize import linear_sum_assignment"
   ]
  },
  {
   "cell_type": "code",
   "execution_count": 106,
   "id": "1c302381-3a03-4214-ba16-77102af98fc4",
   "metadata": {},
   "outputs": [],
   "source": [
    "def gridify(points, grid_size):\n",
    "    # Generate random points in x,y space\n",
    "    np.random.seed(143)  # for reproducibility\n",
    "\n",
    "    locations = np.array(list(itertools.product(range(grid_size), range(grid_size))))\n",
    "\n",
    "    # Define the distance function (squared Euclidean distance)\n",
    "    distance = lambda point, location: np.sum((point - location) ** 2)\n",
    "\n",
    "    # Initialize the cost matrix\n",
    "    cost_matrix = np.zeros((len(points), grid_size**2))\n",
    "\n",
    "    # Populate the cost matrix with distances\n",
    "    for i, point in enumerate(points):\n",
    "        for j, location in enumerate(locations):\n",
    "            cost_matrix[i, j] = distance(point, location)\n",
    "\n",
    "    # Solve the assignment problem to minimize the total distance\n",
    "    row_ind, col_ind = linear_sum_assignment(cost_matrix)\n",
    "\n",
    "    # Assign points to locations based on the optimal solution\n",
    "    assignments = locations[col_ind].reshape(-1, 2)\n",
    "    \n",
    "    return assignments"
   ]
  },
  {
   "cell_type": "code",
   "execution_count": 107,
   "id": "9628f047-762b-48b5-8c83-b7fe1cca2f4c",
   "metadata": {},
   "outputs": [],
   "source": [
    "# ilist = ['i04', 'i05', 'i07', 'c10', 'c11', 'i09', 'i10', 'c17', 'c18', 'c19', 'i17']\n",
    "ilist = 'i04,c03,c04,c05,i11,i12,c11,c12,i14,i16,i17'.split(',')"
   ]
  },
  {
   "cell_type": "code",
   "execution_count": 108,
   "id": "671a9844-e7aa-457f-87a0-bd9d306e4d0a",
   "metadata": {},
   "outputs": [],
   "source": [
    "i_map = dict((i, [l.name for l in fig1_tree.search_nodes(name=i)[0].get_leaves()]) for i in ilist)\n",
    "\n",
    "rev_i_map = {}\n",
    "for key, item in i_map.items():\n",
    "    for i in item:\n",
    "        rev_i_map[i] = key\n",
    "\n",
    "fig1_tsne_data = fig1_data.groupby(rev_i_map).mean()"
   ]
  },
  {
   "cell_type": "code",
   "execution_count": 109,
   "id": "a467e14d-7929-45ac-8631-6c00737a339a",
   "metadata": {},
   "outputs": [
    {
     "name": "stdout",
     "output_type": "stream",
     "text": [
      "CPU times: user 12min 8s, sys: 506 ms, total: 12min 9s\n",
      "Wall time: 24.5 s\n"
     ]
    }
   ],
   "source": [
    "%%time\n",
    "tsne_embedding = TSNE(n_components=2, learning_rate='auto',\n",
    "                  init='random', perplexity=3, n_jobs=10).fit_transform(fig1_tsne_data.values)"
   ]
  },
  {
   "cell_type": "code",
   "execution_count": 110,
   "id": "cab700d8-0a87-4ea5-903c-eb83c31b4f29",
   "metadata": {},
   "outputs": [
    {
     "data": {
      "image/png": "[encoded data removed]",
      "text/plain": [
       "<Figure size 288x288 with 1 Axes>"
      ]
     },
     "metadata": {
      "needs_background": "light"
     },
     "output_type": "display_data"
    }
   ],
   "source": [
    "fig, ax = plt.subplots(figsize=(4,4))\n",
    "tsne_plotdf = pd.DataFrame(tsne_embedding, columns=['dim1', 'dim2'], index=fig1_tsne_data.index)\n",
    "sns.scatterplot(data=tsne_plotdf, x='dim1', y='dim2')\n",
    "for index, row in tsne_plotdf.iterrows():\n",
    "    ax.annotate(text=index, xy=(row['dim1'], row['dim2']))"
   ]
  },
  {
   "cell_type": "code",
   "execution_count": 142,
   "id": "55dd5a1c-f986-475e-991d-33691f744e80",
   "metadata": {},
   "outputs": [
    {
     "data": {
      "image/png": "[encoded data removed]",
      "text/plain": [
       "<Figure size 432x144 with 3 Axes>"
      ]
     },
     "metadata": {},
     "output_type": "display_data"
    }
   ],
   "source": [
    "fig = plt.figure(figsize=(6,2))\n",
    "tsne_plotdf = pd.DataFrame(tsne_embedding, columns=['dim1', 'dim2'], index=fig1_tsne_data.index)\n",
    "ax = fig.add_subplot(1,3,1)\n",
    "col = 'Trait 1'\n",
    "huedict = pd.Series(dict((i, fig1_data.loc[get_leaf_names(fig1_tree.search_nodes(name=i)[0]), col].mean()) for i in ilist))\n",
    "sns.scatterplot(data=tsne_plotdf, x='dim1', y='dim2', \n",
    "                hue=huedict, legend=False, s=150, \n",
    "                linewidth=1, edgecolor='k', palette=['white', 'darkblue'])\n",
    "plt.tick_params(left=False, labelleft=False, bottom=False, labelbottom=False)\n",
    "sns.despine()\n",
    "ylims = ax.get_ylim()\n",
    "ax.set_ylim(ylims[0]+(ylims[0]*0.75), ylims[1]*1.25)\n",
    "xlims = ax.get_xlim()\n",
    "ax.set_xlim(xlims[0]+(xlims[0]*0.75), xlims[1]*1.25)\n",
    "\n",
    "ax = fig.add_subplot(1,3,2)\n",
    "col = 'Trait 2'\n",
    "huedict = pd.Series(dict((i, fig1_data.loc[get_leaf_names(fig1_tree.search_nodes(name=i)[0]), col].mean()) for i in ilist))\n",
    "sns.scatterplot(data=tsne_plotdf, x='dim1', y='dim2', \n",
    "                hue=huedict, legend=False, s=150, \n",
    "                linewidth=1, edgecolor='k', palette='Reds')\n",
    "plt.tick_params(left=False, labelleft=False, bottom=False, labelbottom=False)\n",
    "sns.despine()\n",
    "ylims = ax.get_ylim()\n",
    "ax.set_ylim(ylims[0]+(ylims[0]*0.75), ylims[1]*1.25)\n",
    "xlims = ax.get_xlim()\n",
    "ax.set_xlim(xlims[0]+(xlims[0]*0.75), xlims[1]*1.25)\n",
    "\n",
    "ax = fig.add_subplot(1,3,3)\n",
    "col = 'Trait 3'\n",
    "huedict = pd.Series(dict((i, fig1_data.loc[get_leaf_names(fig1_tree.search_nodes(name=i)[0]), col].mean()) for i in ilist))\n",
    "sns.scatterplot(data=tsne_plotdf, x='dim1', y='dim2', \n",
    "                hue=huedict, legend=False, s=150, \n",
    "                linewidth=1, edgecolor='k', palette='Greens')\n",
    "sns.despine()\n",
    "plt.tick_params(left=False, labelleft=False, bottom=False, labelbottom=False)\n",
    "ylims = ax.get_ylim()\n",
    "ax.set_ylim(ylims[0]+(ylims[0]*0.75), ylims[1]*1.25)\n",
    "xlims = ax.get_xlim()\n",
    "ax.set_xlim(xlims[0]+(xlims[0]*0.75), xlims[1]*1.25)\n",
    "\n",
    "# for index, row in tsne_plotdf.iterrows():\n",
    "#     ax.annotate(text=index, xy=(row['dim1'], row['dim2']))\n",
    "plt.savefig('./../figures/group_meeting_figures/fig1_example_layout.svg', bbox_inches='tight')"
   ]
  },
  {
   "cell_type": "code",
   "execution_count": 111,
   "id": "e214c113-829c-4093-8f00-f73ae8849f11",
   "metadata": {},
   "outputs": [],
   "source": [
    "grid_size = 4\n",
    "tsne_grid = gridify(tsne_plotdf.values, 4)"
   ]
  },
  {
   "cell_type": "code",
   "execution_count": 112,
   "id": "f2a5b20e-8893-4b45-88bf-7ddfcc37a354",
   "metadata": {},
   "outputs": [],
   "source": [
    "tsne_grid_df = pd.DataFrame(tsne_grid, index=tsne_plotdf.index, columns=['dim1', 'dim2'])"
   ]
  },
  {
   "cell_type": "code",
   "execution_count": 113,
   "id": "821196e4-55d8-41f6-9a04-e2f67ec47e67",
   "metadata": {},
   "outputs": [],
   "source": [
    "grid_spots = np.array(list(itertools.product(np.linspace(tsne_plotdf['dim1'].min(),\n",
    "                             tsne_plotdf['dim1'].max(),\n",
    "                             grid_size),\n",
    "                  np.linspace(tsne_plotdf['dim2'].min(),\n",
    "                             tsne_plotdf['dim2'].max(),\n",
    "                             grid_size)))).reshape(grid_size, grid_size, 2)"
   ]
  },
  {
   "cell_type": "code",
   "execution_count": 114,
   "id": "6d45b815-3fce-4ba2-82a4-1879907abb5c",
   "metadata": {},
   "outputs": [
    {
     "data": {
      "image/png": "[encoded data removed]",
      "text/plain": [
       "<Figure size 288x288 with 1 Axes>"
      ]
     },
     "metadata": {
      "needs_background": "light"
     },
     "output_type": "display_data"
    }
   ],
   "source": [
    "# plot to visualizing snapping\n",
    "fig, ax = plt.subplots(figsize=(4,4))\n",
    "sns.scatterplot(data=tsne_plotdf, x='dim1', y='dim2')\n",
    "for index, row in tsne_grid_df.iterrows():\n",
    "    grid_x, grid_y = grid_spots[tsne_grid_df.loc[index, 'dim1']][tsne_grid_df.loc[index, 'dim2']]\n",
    "    plt.plot((grid_x, tsne_plotdf.loc[index, 'dim1']),\n",
    "             (grid_y, tsne_plotdf.loc[index, 'dim2']), color='gray', linewidth=0.25, zorder=0)\n",
    "    ax.annotate(index, (grid_x, grid_y))\n",
    "# assignments"
   ]
  },
  {
   "cell_type": "code",
   "execution_count": 144,
   "id": "eeec8d72-13ef-4560-b273-a274e48ff8b2",
   "metadata": {},
   "outputs": [
    {
     "data": {
      "text/html": [
       "<div>\n",
       "<style scoped>\n",
       "    .dataframe tbody tr th:only-of-type {\n",
       "        vertical-align: middle;\n",
       "    }\n",
       "\n",
       "    .dataframe tbody tr th {\n",
       "        vertical-align: top;\n",
       "    }\n",
       "\n",
       "    .dataframe thead th {\n",
       "        text-align: right;\n",
       "    }\n",
       "</style>\n",
       "<table border=\"1\" class=\"dataframe\">\n",
       "  <thead>\n",
       "    <tr style=\"text-align: right;\">\n",
       "      <th></th>\n",
       "      <th>dim1</th>\n",
       "      <th>dim2</th>\n",
       "    </tr>\n",
       "  </thead>\n",
       "  <tbody>\n",
       "    <tr>\n",
       "      <th>c03</th>\n",
       "      <td>2</td>\n",
       "      <td>3</td>\n",
       "    </tr>\n",
       "    <tr>\n",
       "      <th>c04</th>\n",
       "      <td>3</td>\n",
       "      <td>2</td>\n",
       "    </tr>\n",
       "    <tr>\n",
       "      <th>c05</th>\n",
       "      <td>2</td>\n",
       "      <td>0</td>\n",
       "    </tr>\n",
       "    <tr>\n",
       "      <th>c11</th>\n",
       "      <td>2</td>\n",
       "      <td>1</td>\n",
       "    </tr>\n",
       "    <tr>\n",
       "      <th>c12</th>\n",
       "      <td>3</td>\n",
       "      <td>0</td>\n",
       "    </tr>\n",
       "    <tr>\n",
       "      <th>i04</th>\n",
       "      <td>3</td>\n",
       "      <td>1</td>\n",
       "    </tr>\n",
       "    <tr>\n",
       "      <th>i11</th>\n",
       "      <td>3</td>\n",
       "      <td>3</td>\n",
       "    </tr>\n",
       "    <tr>\n",
       "      <th>i12</th>\n",
       "      <td>1</td>\n",
       "      <td>0</td>\n",
       "    </tr>\n",
       "    <tr>\n",
       "      <th>i14</th>\n",
       "      <td>2</td>\n",
       "      <td>2</td>\n",
       "    </tr>\n",
       "    <tr>\n",
       "      <th>i16</th>\n",
       "      <td>0</td>\n",
       "      <td>0</td>\n",
       "    </tr>\n",
       "    <tr>\n",
       "      <th>i17</th>\n",
       "      <td>1</td>\n",
       "      <td>3</td>\n",
       "    </tr>\n",
       "  </tbody>\n",
       "</table>\n",
       "</div>"
      ],
      "text/plain": [
       "     dim1  dim2\n",
       "c03     2     3\n",
       "c04     3     2\n",
       "c05     2     0\n",
       "c11     2     1\n",
       "c12     3     0\n",
       "i04     3     1\n",
       "i11     3     3\n",
       "i12     1     0\n",
       "i14     2     2\n",
       "i16     0     0\n",
       "i17     1     3"
      ]
     },
     "execution_count": 144,
     "metadata": {},
     "output_type": "execute_result"
    }
   ],
   "source": [
    "tsne_grid_df"
   ]
  },
  {
   "cell_type": "code",
   "execution_count": 152,
   "id": "b1a63bb0-b911-4d3c-aabe-3e9aea5d5aac",
   "metadata": {},
   "outputs": [
    {
     "data": {
      "image/png": "[encoded data removed]",
      "text/plain": [
       "<Figure size 432x144 with 3 Axes>"
      ]
     },
     "metadata": {},
     "output_type": "display_data"
    }
   ],
   "source": [
    "fig = plt.figure(figsize=(6,2))\n",
    "tsne_plotdf = pd.DataFrame(tsne_embedding, columns=['dim1', 'dim2'], index=fig1_tsne_data.index)\n",
    "ax = fig.add_subplot(1,3,1)\n",
    "col = 'Trait 1'\n",
    "huedict = pd.Series(dict((i, fig1_data.loc[get_leaf_names(fig1_tree.search_nodes(name=i)[0]), col].mean()) for i in ilist))\n",
    "sns.scatterplot(data=tsne_grid_df, x='dim1', y='dim2', \n",
    "                hue=huedict, legend=False, s=150, \n",
    "                linewidth=1, edgecolor='k', palette=['white', 'darkblue'])\n",
    "plt.tick_params(left=False, labelleft=False, bottom=False, labelbottom=False)\n",
    "sns.despine()\n",
    "ax.set_ylim(-1, 4)\n",
    "ax.set_xlim(-1, 4)\n",
    "\n",
    "\n",
    "ax = fig.add_subplot(1,3,2)\n",
    "col = 'Trait 2'\n",
    "huedict = pd.Series(dict((i, fig1_data.loc[get_leaf_names(fig1_tree.search_nodes(name=i)[0]), col].mean()) for i in ilist))\n",
    "sns.scatterplot(data=tsne_grid_df, x='dim1', y='dim2', \n",
    "                hue=huedict, legend=False, s=150, \n",
    "                linewidth=1, edgecolor='k', palette='Reds')\n",
    "plt.tick_params(left=False, labelleft=False, bottom=False, labelbottom=False)\n",
    "sns.despine()\n",
    "ax.set_ylim(-1, 4)\n",
    "ax.set_xlim(-1, 4)\n",
    "\n",
    "ax = fig.add_subplot(1,3,3)\n",
    "col = 'Trait 3'\n",
    "huedict = pd.Series(dict((i, fig1_data.loc[get_leaf_names(fig1_tree.search_nodes(name=i)[0]), col].mean()) for i in ilist))\n",
    "sns.scatterplot(data=tsne_grid_df, x='dim1', y='dim2', \n",
    "                hue=huedict, legend=False, s=150, \n",
    "                linewidth=1, edgecolor='k', palette='Greens')\n",
    "sns.despine()\n",
    "plt.tick_params(left=False, labelleft=False, bottom=False, labelbottom=False)\n",
    "ax.set_ylim(-1, 4)\n",
    "ax.set_xlim(-1, 4)\n",
    "\n",
    "# for index, row in tsne_plotdf.iterrows():\n",
    "#     ax.annotate(text=index, xy=(row['dim1'], row['dim2']))\n",
    "plt.savefig('./../figures/group_meeting_figures/fig1_example_grid_layout.svg', bbox_inches='tight')"
   ]
  },
  {
   "cell_type": "code",
   "execution_count": null,
   "id": "5a5eadc5-9f30-4949-8bd6-b363d20628d0",
   "metadata": {},
   "outputs": [],
   "source": []
  },
  {
   "cell_type": "code",
   "execution_count": null,
   "id": "d3e7fa2d-b1b2-48a9-8ac7-74a0419b5671",
   "metadata": {},
   "outputs": [],
   "source": []
  }
 ],
 "metadata": {
  "kernelspec": {
   "display_name": "Python 3 (ipykernel)",
   "language": "python",
   "name": "python3"
  },
  "language_info": {
   "codemirror_mode": {
    "name": "ipython",
    "version": 3
   },
   "file_extension": ".py",
   "mimetype": "text/x-python",
   "name": "python",
   "nbconvert_exporter": "python",
   "pygments_lexer": "ipython3",
   "version": "3.10.10"
  }
 },
 "nbformat": 4,
 "nbformat_minor": 5
}
