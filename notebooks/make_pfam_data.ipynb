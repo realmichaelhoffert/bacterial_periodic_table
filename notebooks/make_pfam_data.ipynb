{
 "cells": [
  {
   "cell_type": "code",
   "execution_count": null,
   "id": "f301b5cf-4305-49f5-a316-7c99522e373d",
   "metadata": {},
   "outputs": [],
   "source": []
  },
  {
   "cell_type": "code",
   "execution_count": 1,
   "id": "96e2a358-527c-4d01-a076-cb2c593f20ae",
   "metadata": {},
   "outputs": [],
   "source": [
    "import pandas as pd\n",
    "import numpy as np\n",
    "import seaborn as sns\n",
    "import matplotlib.pyplot as plt\n",
    "\n",
    "import os\n",
    "from IPython.display import display, clear_output\n",
    "\n",
    "import glob"
   ]
  },
  {
   "cell_type": "code",
   "execution_count": 2,
   "id": "9ee37c2e-bd99-4bfe-9d9f-7006f13ddcbf",
   "metadata": {},
   "outputs": [],
   "source": [
    "from sklearn.ensemble import RandomForestClassifier\n",
    "from sklearn.model_selection import RandomizedSearchCV, GridSearchCV, train_test_split\n",
    "from sklearn.linear_model import LassoCV"
   ]
  },
  {
   "cell_type": "code",
   "execution_count": 5,
   "id": "c7a22811-8791-4227-944a-794b12c1eb14",
   "metadata": {},
   "outputs": [],
   "source": [
    "pfam_table_columns = ['target_name','target_accession','query_name','query_accession', \n",
    "                      'full_e_value', 'full_score', 'full_bias', \n",
    "                      'best_domain_e_value', 'best_domain_score', 'best_domain_bias', \n",
    "                      'exp', 'reg', 'clu',  'ov', 'env', 'dom', 'rep', 'inc', 'description_of_target']\n",
    "\n",
    "\n",
    "def read_pfam_table_pandas(file_path : str) -> pd.DataFrame:\n",
    "    \"\"\"\n",
    "    file_path: path to pfam \"tblout\"\n",
    "    \"\"\"\n",
    "    # read table with special parameters\n",
    "    pfam_as_table = pd.read_table(file_path, skiprows=3,  skipfooter=10, sep='\\s+', header=None, engine='python')\n",
    "    # un-split last 6 columns\n",
    "    description = pfam_as_table.iloc[:, 18:].apply(lambda row: ''.join([str(v).lstrip() for v in row.values]), axis=1)\n",
    "    # remove last 6 columns, add new one of joined values\n",
    "    pfam_as_table = pfam_as_table.iloc[:, :18].assign(description_of_target=description.values)\n",
    "    # reset column names\n",
    "    pfam_as_table.columns = pfam_table_columns\n",
    "    \n",
    "    return pfam_as_table"
   ]
  },
  {
   "cell_type": "code",
   "execution_count": 10,
   "id": "bf5e2793-e3c3-4693-b64a-e6d64c369ca3",
   "metadata": {
    "tags": []
   },
   "outputs": [],
   "source": [
    "globbed_pfam_search_results = glob.glob('/data/mhoffert/genomes/GTDB_r207/pfam/*tbl*')\n",
    "pfam_data = pd.read_csv('/data/mhoffert/db/pfam/pfamA.txt.gz', sep='\\t', header=None, index_col=0)"
   ]
  },
  {
   "cell_type": "code",
   "execution_count": null,
   "id": "a93de5ce-7dbf-4e2e-82f4-473e14b38980",
   "metadata": {},
   "outputs": [],
   "source": [
    "    pfam_table_scores = pd.merge(pfam_table, pfam_data.loc[interesting_pfams, 9], how='left', left_on='Pfam', right_index=True)\n",
    "    # get scores better than trusted thresholds\n",
    "    final_table = pfam_table_scores[pfam_table_scores['full_score'] >= pfam_table_scores[9]]"
   ]
  },
  {
   "cell_type": "code",
   "execution_count": 24,
   "id": "18092037-da52-4683-8569-5e2d89f3de31",
   "metadata": {
    "tags": []
   },
   "outputs": [
    {
     "data": {
      "text/plain": [
       "62290"
      ]
     },
     "metadata": {},
     "output_type": "display_data"
    }
   ],
   "source": [
    "all_pfam_data = []\n",
    "num_done = 0\n",
    "for curr_genome_pfam in globbed_pfam_search_results:\n",
    "    \n",
    "    g = curr_genome_pfam.split('/')[-1].split('_tbl')[0]\n",
    "    \n",
    "    display(num_done)\n",
    "    clear_output(wait=True)\n",
    "    # curr_genome_pfam = f'/data/mhoffert/genomes/GTDB_r207/pfam/{g}_tblout.txt'\n",
    "    \n",
    "    # read the HMMER results as a table\n",
    "    pfam_as_table = read_pfam_table_pandas(curr_genome_pfam)\n",
    "    \n",
    "    pfam_as_table['Pfam'] = pfam_as_table['query_accession'].apply(lambda x: x.split('.')[0])\n",
    "    \n",
    "    pfam_table_scores = pd.merge(pfam_as_table, pfam_data.loc[:, 9], how='left', left_on='Pfam', right_index=True)\n",
    "    # get scores better than trusted thresholds\n",
    "    final_table = pfam_table_scores[pfam_table_scores['full_score'] >= pfam_table_scores[9]]\n",
    "    \n",
    "    # get the pfams found\n",
    "    pfams = final_table['Pfam'].unique()\n",
    "    all_pfam_data.append(pd.Series(index=pfams, data=[1]*len(pfams), dtype=int, name=g))\n",
    "    num_done += 1"
   ]
  },
  {
   "cell_type": "code",
   "execution_count": 26,
   "id": "21dba66b-6e3e-4240-b5b4-710d8ab9c320",
   "metadata": {},
   "outputs": [],
   "source": [
    "all_pfam_df = pd.concat(all_pfam_data, axis=1).fillna(0).T"
   ]
  },
  {
   "cell_type": "code",
   "execution_count": 27,
   "id": "877b1942-3ae9-4d52-b766-6ce2a0020ca9",
   "metadata": {},
   "outputs": [
    {
     "data": {
      "text/plain": [
       "(62291, 17422)"
      ]
     },
     "execution_count": 27,
     "metadata": {},
     "output_type": "execute_result"
    }
   ],
   "source": [
    "all_pfam_df.shape"
   ]
  },
  {
   "cell_type": "code",
   "execution_count": 28,
   "id": "4ddf64d8-50d7-4d52-af55-642cddf49052",
   "metadata": {},
   "outputs": [],
   "source": [
    "all_pfam_df.to_csv('/data/mhoffert/genomes/GTDB_r207/gtdb_genomes_reps_r207_pfam_trusted.tsv.gz', sep='\\t', compression='gzip')"
   ]
  },
  {
   "cell_type": "code",
   "execution_count": null,
   "id": "bbf1db3b-8f68-4c36-9efd-6edc304183b6",
   "metadata": {},
   "outputs": [],
   "source": []
  }
 ],
 "metadata": {
  "kernelspec": {
   "display_name": "Python 3 (ipykernel)",
   "language": "python",
   "name": "python3"
  },
  "language_info": {
   "codemirror_mode": {
    "name": "ipython",
    "version": 3
   },
   "file_extension": ".py",
   "mimetype": "text/x-python",
   "name": "python",
   "nbconvert_exporter": "python",
   "pygments_lexer": "ipython3",
   "version": "3.8.15"
  }
 },
 "nbformat": 4,
 "nbformat_minor": 5
}
