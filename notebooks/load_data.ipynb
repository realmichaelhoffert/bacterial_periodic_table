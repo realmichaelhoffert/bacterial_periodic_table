{
 "cells": [
  {
   "cell_type": "code",
   "execution_count": 2,
   "id": "8bf47ab4-2604-46e2-a8f5-cf1064edef9d",
   "metadata": {},
   "outputs": [],
   "source": [
    "from ete3 import Tree\n",
    "from ete3.treeview import faces, AttrFace, TextFace, TreeStyle, NodeStyle, CircleFace, RectFace\n",
    "\n",
    "# python libraries\n",
    "import pickle\n",
    "import itertools\n",
    "import random\n",
    "import os\n",
    "\n",
    "\n",
    "# scipy\n",
    "import scipy.stats\n",
    "from scipy.spatial import ConvexHull, Delaunay\n",
    "from scipy.spatial.distance import cdist, pdist, squareform\n",
    "from scipy.cluster.hierarchy import dendrogram, linkage\n",
    "\n",
    "# sklearn\n",
    "from sklearn import manifold\n",
    "from sklearn import svm\n",
    "from sklearn.datasets import make_blobs\n",
    "from sklearn.utils import check_random_state\n",
    "from sklearn.preprocessing import scale, StandardScaler\n",
    "from sklearn.metrics.pairwise import pairwise_distances\n",
    "from sklearn.metrics import f1_score\n",
    "\n",
    "# clustering\n",
    "from sklearn.cluster import DBSCAN\n",
    "import hdbscan\n",
    "\n",
    "# statistics\n",
    "import mantel\n",
    "\n",
    "# plotting\n",
    "import matplotlib.gridspec as gridspec\n",
    "from matplotlib.collections import PolyCollection\n",
    "import matplotlib\n",
    "import matplotlib.cm as cm\n",
    "import matplotlib.patches as patches\n",
    "from matplotlib.colors import to_hex\n",
    "\n",
    "# additional plotting code\n",
    "import sys\n",
    "import time\n",
    "sys.path.append('/data/mhoffert/fiererlab/periodic_phyla/code/')\n",
    "\n",
    "from tufte_box import *\n",
    "\n",
    "# displays\n",
    "from IPython.display import display, clear_output\n",
    "\n",
    "# ENS-t-SNE\n",
    "sys.path.append('/data/mhoffert/tools/MPSE-TSNE/ENS-t-SNE/')\n",
    "import mview\n",
    "\n",
    "# for visualizing trees\n",
    "os.environ['QT_QPA_PLATFORM']='offscreen'"
   ]
  },
  {
   "cell_type": "markdown",
   "id": "a7f2796e-7692-498a-9f49-4695c40fccb1",
   "metadata": {},
   "source": [
    "## Outline\n",
    "Finalized code to make the periodic table figure."
   ]
  },
  {
   "cell_type": "code",
   "execution_count": 3,
   "id": "c237058d-3971-4965-8549-6de67206e866",
   "metadata": {},
   "outputs": [
    {
     "data": {
      "text/plain": [
       "'3.1.2'"
      ]
     },
     "execution_count": 3,
     "metadata": {},
     "output_type": "execute_result"
    }
   ],
   "source": [
    "import ete3 as ete3\n",
    "ete3.__version__"
   ]
  },
  {
   "cell_type": "markdown",
   "id": "cc937482-4683-4d40-beaa-d77b69a7bf79",
   "metadata": {},
   "source": [
    "## Actually used imports"
   ]
  },
  {
   "cell_type": "code",
   "execution_count": 1,
   "id": "b2e22250-a6a2-4686-8321-deb3254cd4d0",
   "metadata": {},
   "outputs": [],
   "source": [
    "%load_ext autoreload"
   ]
  },
  {
   "cell_type": "code",
   "execution_count": 2,
   "id": "21232655-80ab-4a0c-8eb6-8cd81f19f304",
   "metadata": {},
   "outputs": [],
   "source": [
    "%autoreload 2"
   ]
  },
  {
   "cell_type": "code",
   "execution_count": 25,
   "id": "0f2d2e83-f5f3-4c32-8772-d89326fdda72",
   "metadata": {},
   "outputs": [],
   "source": [
    "import sys\n",
    "import pickle\n",
    "\n",
    "# data\n",
    "import pandas as pd\n",
    "import numpy as np\n",
    "\n",
    "# plotting\n",
    "import matplotlib.pyplot as plt\n",
    "import seaborn as sns\n",
    "\n",
    "# sklearn\n",
    "from sklearn.preprocessing import scale, StandardScaler\n"
   ]
  },
  {
   "cell_type": "markdown",
   "id": "5369c1e5-4aa4-45cd-a34e-cb596029f2e9",
   "metadata": {
    "tags": []
   },
   "source": [
    "## Load GTDB data"
   ]
  },
  {
   "cell_type": "code",
   "execution_count": 6,
   "id": "e0b786a5-9e24-4cda-b306-2f3168c5e151",
   "metadata": {},
   "outputs": [],
   "source": [
    "sys.path = ['/data/mhoffert/tools/ete/'] + sys.path[:-1]\n",
    "sys.path.append('./../code/')"
   ]
  },
  {
   "cell_type": "code",
   "execution_count": 7,
   "id": "3f5f5547-29d7-4cfd-b573-f777fcd749e1",
   "metadata": {},
   "outputs": [],
   "source": [
    "import gtdb"
   ]
  },
  {
   "cell_type": "code",
   "execution_count": 8,
   "id": "a8e1ad13-acae-410f-859f-a76f16abe1f6",
   "metadata": {},
   "outputs": [
    {
     "name": "stderr",
     "output_type": "stream",
     "text": [
      "Columns (61,65,74,82,83,85) have mixed types. Specify dtype option on import or set low_memory=False.\n"
     ]
    },
    {
     "name": "stdout",
     "output_type": "stream",
     "text": [
      "CPU times: user 11.1 s, sys: 2 s, total: 13.1 s\n",
      "Wall time: 41.2 s\n"
     ]
    }
   ],
   "source": [
    "%%time\n",
    "# get gtdb metadata and version containing only phyla with 100+ species\n",
    "md, md_top_phyla = gtdb.load_gtdb('/data/mhoffert/genomes/GTDB_r207/bac120_metadata_r207.tsv')"
   ]
  },
  {
   "cell_type": "code",
   "execution_count": 9,
   "id": "d476ab7e-f45c-486b-bd71-1cb531d7c4b1",
   "metadata": {
    "jp-MarkdownHeadingCollapsed": true,
    "tags": []
   },
   "outputs": [
    {
     "name": "stdout",
     "output_type": "stream",
     "text": [
      "Phylum\n",
      "Proteobacteria       17350\n",
      "Bacteroidota          8588\n",
      "Firmicutes_A          8243\n",
      "Actinobacteriota      7328\n",
      "Firmicutes            4216\n",
      "Patescibacteria       2485\n",
      "Chloroflexota         1387\n",
      "Cyanobacteria         1372\n",
      "Verrucomicrobiota     1325\n",
      "Planctomycetota       1071\n",
      "Name: accession, dtype: int64\n"
     ]
    }
   ],
   "source": [
    "# get a list of the most abundant phyla\n",
    "most_abundant_phyla = md_top_phyla.groupby(['Phylum']).count().sort_values('accession', ascending=False).head(10)\n",
    "print(most_abundant_phyla['accession'])"
   ]
  },
  {
   "cell_type": "code",
   "execution_count": 10,
   "id": "a6428b6b-2250-437e-ac48-779e6ea312ed",
   "metadata": {},
   "outputs": [
    {
     "data": {
      "text/plain": [
       "ncbi_isolation_source\n",
       "none                                      56895\n",
       "soil                                        306\n",
       "biological product [ENVO:02000043]          171\n",
       "derived from human gut metagenome           156\n",
       "not provided; submitted under MIGS 2.1      136\n",
       "                                          ...  \n",
       "a paper mill waste water polluted pond        1\n",
       "soil sediment                                 1\n",
       "grasslands                                    1\n",
       "soil of a rice field                          1\n",
       "host s whole body                             1\n",
       "Name: count, Length: 2026, dtype: int64"
      ]
     },
     "execution_count": 10,
     "metadata": {},
     "output_type": "execute_result"
    }
   ],
   "source": [
    "md['ncbi_isolation_source'].value_counts()"
   ]
  },
  {
   "cell_type": "markdown",
   "id": "0856d0af-e289-4d17-a3ec-b57db0b13396",
   "metadata": {},
   "source": [
    "## Load trait data"
   ]
  },
  {
   "cell_type": "code",
   "execution_count": 14,
   "id": "9f6e4953-05e9-498c-aed6-47812032301e",
   "metadata": {},
   "outputs": [],
   "source": [
    "with open('/data/mhoffert/fiererlab/periodic_phyla/results/20230814_pca_data.pickle', 'rb') as handle:\n",
    "    pca_data = pickle.load(handle)"
   ]
  },
  {
   "cell_type": "code",
   "execution_count": 15,
   "id": "9e744f77-803f-4c25-a4f0-28788a7706d4",
   "metadata": {},
   "outputs": [],
   "source": [
    "pca_data.index = [i.replace('.', '_') for i in pca_data.index]"
   ]
  },
  {
   "cell_type": "code",
   "execution_count": 20,
   "id": "524f0c4d-0d2b-4a19-b11b-12dd0d79422d",
   "metadata": {},
   "outputs": [
    {
     "data": {
      "image/png": "[encoded data removed]",
      "text/plain": [
       "<Figure size 1440x144 with 11 Axes>"
      ]
     },
     "metadata": {
      "needs_background": "light"
     },
     "output_type": "display_data"
    }
   ],
   "source": [
    "'''\n",
    "Identify candidate data points for removal\n",
    "'''\n",
    "fig = plt.figure(figsize=(20,2))\n",
    "i = 1\n",
    "for col in pca_data.columns:\n",
    "    ax = fig.add_subplot(1, len(pca_data.columns), i)\n",
    "    # print(list(df_dict.keys())[i])\n",
    "    sns.histplot(pca_data[col].values, ax=ax)\n",
    "    ax.set_ylabel(' ')\n",
    "    ax.set_xlabel(' ')\n",
    "    plt.tick_params(labelleft=False)\n",
    "    ax.set_title(col)\n",
    "    # plt.show()\n",
    "    i += 1"
   ]
  },
  {
   "cell_type": "markdown",
   "id": "e22090f1-21a1-4bc3-a57f-b0516a1c35cb",
   "metadata": {},
   "source": [
    "Looks like some things need to be filtered based on growth rate"
   ]
  },
  {
   "cell_type": "markdown",
   "id": "87d76b87-700e-436a-9c2b-0f50c00ea0e7",
   "metadata": {},
   "source": [
    "### Remove observations with extremely high growth rate"
   ]
  },
  {
   "cell_type": "code",
   "execution_count": 21,
   "id": "353d0196-cc61-4f62-8dad-31bed30d7ad9",
   "metadata": {},
   "outputs": [
    {
     "name": "stdout",
     "output_type": "stream",
     "text": [
      "(51880, 11)\n",
      "(51851, 11)\n"
     ]
    }
   ],
   "source": [
    "# \n",
    "print(pca_data.shape)\n",
    "pca_data = pca_data[pca_data['growth_rate'] < 25]\n",
    "print(pca_data.shape)"
   ]
  },
  {
   "cell_type": "code",
   "execution_count": 22,
   "id": "a3042d09-c3ba-4832-b660-ee84fdfc7efe",
   "metadata": {},
   "outputs": [
    {
     "data": {
      "image/png": "[encoded data removed]",
      "text/plain": [
       "<Figure size 1440x144 with 11 Axes>"
      ]
     },
     "metadata": {
      "needs_background": "light"
     },
     "output_type": "display_data"
    }
   ],
   "source": [
    "'''\n",
    "Identify candidate data points for removal\n",
    "'''\n",
    "fig = plt.figure(figsize=(20,2))\n",
    "i = 1\n",
    "for col in pca_data.columns:\n",
    "    ax = fig.add_subplot(1, len(pca_data.columns), i)\n",
    "    # print(list(df_dict.keys())[i])\n",
    "    sns.histplot(pca_data[col], ax=ax)\n",
    "    ax.set_ylabel(' ')\n",
    "    ax.set_xlabel(' ')\n",
    "    plt.tick_params(labelleft=False)\n",
    "    ax.set_title(col)\n",
    "    # plt.show()\n",
    "    i += 1"
   ]
  },
  {
   "cell_type": "markdown",
   "id": "0a097f18-5179-4228-a357-6e0d979cad39",
   "metadata": {},
   "source": [
    "### Scale data"
   ]
  },
  {
   "cell_type": "code",
   "execution_count": 26,
   "id": "b246cb0c-fc5c-44c0-affa-5cd9ba766867",
   "metadata": {},
   "outputs": [
    {
     "data": {
      "text/html": [
       "<div>\n",
       "<style scoped>\n",
       "    .dataframe tbody tr th:only-of-type {\n",
       "        vertical-align: middle;\n",
       "    }\n",
       "\n",
       "    .dataframe tbody tr th {\n",
       "        vertical-align: top;\n",
       "    }\n",
       "\n",
       "    .dataframe thead th {\n",
       "        text-align: right;\n",
       "    }\n",
       "</style>\n",
       "<table border=\"1\" class=\"dataframe\">\n",
       "  <thead>\n",
       "    <tr style=\"text-align: right;\">\n",
       "      <th></th>\n",
       "      <th>aerobe</th>\n",
       "      <th>phototroph</th>\n",
       "      <th>3HP bicycle</th>\n",
       "      <th>3HP/4HB</th>\n",
       "      <th>Calvin Cycle</th>\n",
       "      <th>rAcoA homoacetogenic</th>\n",
       "      <th>rTCA I</th>\n",
       "      <th>rTCA II</th>\n",
       "      <th>growth_rate</th>\n",
       "      <th>genome_size</th>\n",
       "      <th>gc_percentage</th>\n",
       "    </tr>\n",
       "  </thead>\n",
       "  <tbody>\n",
       "    <tr>\n",
       "      <th>GB_GCA_000007325_1</th>\n",
       "      <td>0.001817</td>\n",
       "      <td>0</td>\n",
       "      <td>0.0</td>\n",
       "      <td>0.0</td>\n",
       "      <td>0.0</td>\n",
       "      <td>0.0</td>\n",
       "      <td>0.0</td>\n",
       "      <td>0.0</td>\n",
       "      <td>0.556748</td>\n",
       "      <td>-0.026066</td>\n",
       "      <td>-0.710654</td>\n",
       "    </tr>\n",
       "    <tr>\n",
       "      <th>GB_GCA_000008885_1</th>\n",
       "      <td>0.470498</td>\n",
       "      <td>0</td>\n",
       "      <td>0.0</td>\n",
       "      <td>0.0</td>\n",
       "      <td>0.0</td>\n",
       "      <td>0.0</td>\n",
       "      <td>0.0</td>\n",
       "      <td>0.0</td>\n",
       "      <td>0.735718</td>\n",
       "      <td>-1.115905</td>\n",
       "      <td>-1.049117</td>\n",
       "    </tr>\n",
       "    <tr>\n",
       "      <th>GB_GCA_000009845_1</th>\n",
       "      <td>0.682832</td>\n",
       "      <td>0</td>\n",
       "      <td>0.0</td>\n",
       "      <td>0.0</td>\n",
       "      <td>0.0</td>\n",
       "      <td>0.0</td>\n",
       "      <td>0.0</td>\n",
       "      <td>0.0</td>\n",
       "      <td>1.045784</td>\n",
       "      <td>-1.004745</td>\n",
       "      <td>-0.666624</td>\n",
       "    </tr>\n",
       "    <tr>\n",
       "      <th>GB_GCA_000010085_1</th>\n",
       "      <td>0.865893</td>\n",
       "      <td>0</td>\n",
       "      <td>0.0</td>\n",
       "      <td>0.0</td>\n",
       "      <td>0.0</td>\n",
       "      <td>0.0</td>\n",
       "      <td>0.0</td>\n",
       "      <td>0.0</td>\n",
       "      <td>-1.569988</td>\n",
       "      <td>1.542596</td>\n",
       "      <td>1.269066</td>\n",
       "    </tr>\n",
       "    <tr>\n",
       "      <th>GB_GCA_000010565_1</th>\n",
       "      <td>0.018416</td>\n",
       "      <td>0</td>\n",
       "      <td>0.0</td>\n",
       "      <td>0.0</td>\n",
       "      <td>0.0</td>\n",
       "      <td>0.0</td>\n",
       "      <td>0.0</td>\n",
       "      <td>0.0</td>\n",
       "      <td>-0.768261</td>\n",
       "      <td>0.604120</td>\n",
       "      <td>1.157329</td>\n",
       "    </tr>\n",
       "  </tbody>\n",
       "</table>\n",
       "</div>"
      ],
      "text/plain": [
       "                      aerobe  phototroph  3HP bicycle  3HP/4HB  Calvin Cycle  \\\n",
       "GB_GCA_000007325_1  0.001817           0          0.0      0.0           0.0   \n",
       "GB_GCA_000008885_1  0.470498           0          0.0      0.0           0.0   \n",
       "GB_GCA_000009845_1  0.682832           0          0.0      0.0           0.0   \n",
       "GB_GCA_000010085_1  0.865893           0          0.0      0.0           0.0   \n",
       "GB_GCA_000010565_1  0.018416           0          0.0      0.0           0.0   \n",
       "\n",
       "                    rAcoA homoacetogenic  rTCA I  rTCA II  growth_rate  \\\n",
       "GB_GCA_000007325_1                   0.0     0.0      0.0     0.556748   \n",
       "GB_GCA_000008885_1                   0.0     0.0      0.0     0.735718   \n",
       "GB_GCA_000009845_1                   0.0     0.0      0.0     1.045784   \n",
       "GB_GCA_000010085_1                   0.0     0.0      0.0    -1.569988   \n",
       "GB_GCA_000010565_1                   0.0     0.0      0.0    -0.768261   \n",
       "\n",
       "                    genome_size  gc_percentage  \n",
       "GB_GCA_000007325_1    -0.026066      -0.710654  \n",
       "GB_GCA_000008885_1    -1.115905      -1.049117  \n",
       "GB_GCA_000009845_1    -1.004745      -0.666624  \n",
       "GB_GCA_000010085_1     1.542596       1.269066  \n",
       "GB_GCA_000010565_1     0.604120       1.157329  "
      ]
     },
     "execution_count": 26,
     "metadata": {},
     "output_type": "execute_result"
    }
   ],
   "source": [
    "# scaling individual columns in the data\n",
    "def scale_func(x, xname):\n",
    "    # print(f'scaling {xname}')\n",
    "    return scale(x)\n",
    "\n",
    "# only scaling some columns\n",
    "to_scale_vars = ['growth_rate', 'genome_size', 'gc_percentage']\n",
    "pca_data.head().apply(lambda x: scale_func(x, x.name) if x.name in to_scale_vars else x)"
   ]
  },
  {
   "cell_type": "code",
   "execution_count": 28,
   "id": "d122996e-78b2-4224-adac-6bc1dee29a08",
   "metadata": {},
   "outputs": [],
   "source": [
    "with open('/data/mhoffert/fiererlab/periodic_phyla/results/trees/GTDB_full_tip_dist_matrix_rownames.txt', 'r') as handle:\n",
    "    row_names_lines = handle.readlines()\n",
    "\n",
    "row_names = [r.strip().replace('\"', '') for r in row_names_lines[1:]]\n",
    "row_names_series = pd.Series(row_names)"
   ]
  },
  {
   "cell_type": "code",
   "execution_count": 29,
   "id": "a9bc9396-cc04-4504-86e0-f1f52f93225a",
   "metadata": {},
   "outputs": [],
   "source": [
    "# list of genomes in phyla with at least 100 representatives\n",
    "top_phyla_genome_accs = md_top_phyla['accession_reformat'].unique()\n",
    "\n",
    "# vector of T/F for leaves in the trait data used to subset distance matrix\n",
    "keep_rows = np.array([r in pca_data.index and r in top_phyla_genome_accs for r in row_names])\n",
    "\n",
    "# same as above, used to reindex trait data\n",
    "keep_rows_names = np.array([r for r in row_names if r in pca_data.index and r in top_phyla_genome_accs])"
   ]
  },
  {
   "cell_type": "code",
   "execution_count": 30,
   "id": "b834947a-660c-436c-8a66-fbedf42a1769",
   "metadata": {},
   "outputs": [
    {
     "data": {
      "text/html": [
       "<div>\n",
       "<style scoped>\n",
       "    .dataframe tbody tr th:only-of-type {\n",
       "        vertical-align: middle;\n",
       "    }\n",
       "\n",
       "    .dataframe tbody tr th {\n",
       "        vertical-align: top;\n",
       "    }\n",
       "\n",
       "    .dataframe thead th {\n",
       "        text-align: right;\n",
       "    }\n",
       "</style>\n",
       "<table border=\"1\" class=\"dataframe\">\n",
       "  <thead>\n",
       "    <tr style=\"text-align: right;\">\n",
       "      <th></th>\n",
       "      <th>aerobe</th>\n",
       "      <th>phototroph</th>\n",
       "      <th>3HP bicycle</th>\n",
       "      <th>3HP/4HB</th>\n",
       "      <th>Calvin Cycle</th>\n",
       "      <th>rAcoA homoacetogenic</th>\n",
       "      <th>rTCA I</th>\n",
       "      <th>rTCA II</th>\n",
       "      <th>growth_rate</th>\n",
       "      <th>genome_size</th>\n",
       "      <th>gc_percentage</th>\n",
       "    </tr>\n",
       "  </thead>\n",
       "  <tbody>\n",
       "    <tr>\n",
       "      <th>GB_GCA_012517545_1</th>\n",
       "      <td>0.012481</td>\n",
       "      <td>0.0</td>\n",
       "      <td>0.0</td>\n",
       "      <td>0.0</td>\n",
       "      <td>0.0</td>\n",
       "      <td>0.0</td>\n",
       "      <td>0.0</td>\n",
       "      <td>0.0</td>\n",
       "      <td>-0.120779</td>\n",
       "      <td>-0.637998</td>\n",
       "      <td>-1.708150</td>\n",
       "    </tr>\n",
       "    <tr>\n",
       "      <th>GB_GCA_017540815_1</th>\n",
       "      <td>0.008260</td>\n",
       "      <td>0.0</td>\n",
       "      <td>0.0</td>\n",
       "      <td>0.0</td>\n",
       "      <td>0.0</td>\n",
       "      <td>0.0</td>\n",
       "      <td>0.0</td>\n",
       "      <td>0.0</td>\n",
       "      <td>-0.867855</td>\n",
       "      <td>-0.264948</td>\n",
       "      <td>-0.797864</td>\n",
       "    </tr>\n",
       "    <tr>\n",
       "      <th>GB_GCA_001829125_1</th>\n",
       "      <td>0.046911</td>\n",
       "      <td>0.0</td>\n",
       "      <td>0.0</td>\n",
       "      <td>0.0</td>\n",
       "      <td>0.0</td>\n",
       "      <td>0.0</td>\n",
       "      <td>0.0</td>\n",
       "      <td>0.0</td>\n",
       "      <td>0.404638</td>\n",
       "      <td>0.426372</td>\n",
       "      <td>-1.989249</td>\n",
       "    </tr>\n",
       "    <tr>\n",
       "      <th>GB_GCA_009784515_1</th>\n",
       "      <td>0.081483</td>\n",
       "      <td>0.0</td>\n",
       "      <td>0.0</td>\n",
       "      <td>0.0</td>\n",
       "      <td>0.0</td>\n",
       "      <td>0.0</td>\n",
       "      <td>0.0</td>\n",
       "      <td>0.0</td>\n",
       "      <td>0.767524</td>\n",
       "      <td>-0.915710</td>\n",
       "      <td>-0.887366</td>\n",
       "    </tr>\n",
       "    <tr>\n",
       "      <th>GB_GCA_016936615_1</th>\n",
       "      <td>0.052110</td>\n",
       "      <td>0.0</td>\n",
       "      <td>0.0</td>\n",
       "      <td>0.0</td>\n",
       "      <td>0.0</td>\n",
       "      <td>0.0</td>\n",
       "      <td>0.0</td>\n",
       "      <td>0.0</td>\n",
       "      <td>-0.436930</td>\n",
       "      <td>-0.170182</td>\n",
       "      <td>-1.136206</td>\n",
       "    </tr>\n",
       "  </tbody>\n",
       "</table>\n",
       "</div>"
      ],
      "text/plain": [
       "                      aerobe  phototroph  3HP bicycle  3HP/4HB  Calvin Cycle  \\\n",
       "GB_GCA_012517545_1  0.012481         0.0          0.0      0.0           0.0   \n",
       "GB_GCA_017540815_1  0.008260         0.0          0.0      0.0           0.0   \n",
       "GB_GCA_001829125_1  0.046911         0.0          0.0      0.0           0.0   \n",
       "GB_GCA_009784515_1  0.081483         0.0          0.0      0.0           0.0   \n",
       "GB_GCA_016936615_1  0.052110         0.0          0.0      0.0           0.0   \n",
       "\n",
       "                    rAcoA homoacetogenic  rTCA I  rTCA II  growth_rate  \\\n",
       "GB_GCA_012517545_1                   0.0     0.0      0.0    -0.120779   \n",
       "GB_GCA_017540815_1                   0.0     0.0      0.0    -0.867855   \n",
       "GB_GCA_001829125_1                   0.0     0.0      0.0     0.404638   \n",
       "GB_GCA_009784515_1                   0.0     0.0      0.0     0.767524   \n",
       "GB_GCA_016936615_1                   0.0     0.0      0.0    -0.436930   \n",
       "\n",
       "                    genome_size  gc_percentage  \n",
       "GB_GCA_012517545_1    -0.637998      -1.708150  \n",
       "GB_GCA_017540815_1    -0.264948      -0.797864  \n",
       "GB_GCA_001829125_1     0.426372      -1.989249  \n",
       "GB_GCA_009784515_1    -0.915710      -0.887366  \n",
       "GB_GCA_016936615_1    -0.170182      -1.136206  "
      ]
     },
     "execution_count": 30,
     "metadata": {},
     "output_type": "execute_result"
    }
   ],
   "source": [
    "# scale and take values as floats\n",
    "np_pca_data = pca_data.apply(lambda x: scale_func(x, x.name) if x.name in to_scale_vars else x).reindex(keep_rows_names).astype(float)\n",
    "\n",
    "np_pca_data.head()"
   ]
  },
  {
   "cell_type": "code",
   "execution_count": 31,
   "id": "ab0d0315-d05c-4d62-b6aa-e00f7910c664",
   "metadata": {},
   "outputs": [
    {
     "data": {
      "image/png": "[encoded data removed]",
      "text/plain": [
       "<Figure size 1440x144 with 11 Axes>"
      ]
     },
     "metadata": {
      "needs_background": "light"
     },
     "output_type": "display_data"
    }
   ],
   "source": [
    "'''\n",
    "plotting scaled data\n",
    "'''\n",
    "fig = plt.figure(figsize=(20,2))\n",
    "i = 1\n",
    "for col in range(len(pca_data.columns)):\n",
    "    ax = fig.add_subplot(1, len(pca_data.columns), i)\n",
    "    # print(list(df_dict.keys())[i])\n",
    "    sns.histplot(np_pca_data.values[:, col], ax=ax)\n",
    "    ax.set_ylabel(' ')\n",
    "    ax.set_xlabel(' ')\n",
    "    plt.tick_params(labelleft=False)\n",
    "    ax.set_title(col)\n",
    "    # plt.show()\n",
    "    i += 1"
   ]
  },
  {
   "cell_type": "code",
   "execution_count": 32,
   "id": "abdf93e6-36fc-4af4-a1f3-cac3052c04ae",
   "metadata": {},
   "outputs": [
    {
     "data": {
      "text/plain": [
       "(50745, 11)"
      ]
     },
     "execution_count": 32,
     "metadata": {},
     "output_type": "execute_result"
    }
   ],
   "source": [
    "np_pca_data.shape #, patristic_distance_matrix.shape"
   ]
  },
  {
   "cell_type": "markdown",
   "id": "c34bce34-8fc5-48be-b2c5-3cf480de259c",
   "metadata": {},
   "source": [
    "## Saving finalized trait data"
   ]
  },
  {
   "cell_type": "code",
   "execution_count": 34,
   "id": "ed98ff5a-a4b2-4418-b961-daa7fe7b9a41",
   "metadata": {},
   "outputs": [],
   "source": [
    "pca_data.to_csv('./../finalized_data/20241127_trait_data.tsv.gz', \n",
    "                sep='\\t', \n",
    "                compression='gzip')"
   ]
  },
  {
   "cell_type": "code",
   "execution_count": 35,
   "id": "d72c564d-40b6-4a8a-8a0e-7bc2499599fd",
   "metadata": {},
   "outputs": [],
   "source": [
    "np_pca_data.to_csv('./../finalized_data/20241127_scaled_trait_data.tsv.gz', \n",
    "                sep='\\t', \n",
    "                compression='gzip')"
   ]
  },
  {
   "cell_type": "markdown",
   "id": "1404337f-5a7f-404a-ae4f-0cf7f31813a5",
   "metadata": {
    "tags": []
   },
   "source": [
    "## Loading in the tree"
   ]
  },
  {
   "cell_type": "code",
   "execution_count": 24,
   "id": "1f0e6833-9227-4296-97bd-d70d8e738a88",
   "metadata": {},
   "outputs": [],
   "source": [
    "gtdb_full = Tree('/data/mhoffert/genomes/GTDB_r207/tree/bac120_r207.tree', format=1, quoted_node_names=True)"
   ]
  },
  {
   "cell_type": "markdown",
   "id": "5be0f827-35b2-434e-9c3f-0e9219e18b89",
   "metadata": {},
   "source": [
    "### Reformatting tree"
   ]
  },
  {
   "cell_type": "code",
   "execution_count": 25,
   "id": "979f59ef-12d8-4653-8758-c7598e751936",
   "metadata": {},
   "outputs": [
    {
     "data": {
      "text/plain": [
       "124500"
      ]
     },
     "metadata": {},
     "output_type": "display_data"
    }
   ],
   "source": [
    "# rename internal nodes\n",
    "names_map = []\n",
    "i = 0\n",
    "for node in gtdb_full.traverse(strategy='levelorder'):\n",
    "    if i % 500 == 0:\n",
    "        display(i)\n",
    "        clear_output(wait=True)\n",
    "    if not node.is_leaf():\n",
    "        new_node_name = f'c{i:06}'\n",
    "        names_map.append((new_node_name, node.name))\n",
    "        node.name = new_node_name\n",
    "    else:\n",
    "        names_map.append((node.name.replace('.', '_'), node.name))\n",
    "        node.name = node.name.replace('.', '_')\n",
    "    i += 1"
   ]
  },
  {
   "cell_type": "code",
   "execution_count": 26,
   "id": "d5da4404-51e0-464a-a197-48618161e020",
   "metadata": {},
   "outputs": [],
   "source": [
    "# make a series\n",
    "names_map = pd.Series(dict(names_map))"
   ]
  },
  {
   "cell_type": "code",
   "execution_count": 27,
   "id": "2a6e9428-f3d3-4aea-89ea-b8f5a02208d3",
   "metadata": {},
   "outputs": [
    {
     "data": {
      "text/plain": [
       "Phylum\n",
       "Proteobacteria        17350\n",
       "Bacteroidota           8588\n",
       "Firmicutes_A           8243\n",
       "Actinobacteriota       7328\n",
       "Firmicutes             4216\n",
       "Patescibacteria        2485\n",
       "Chloroflexota          1387\n",
       "Cyanobacteria          1372\n",
       "Verrucomicrobiota      1325\n",
       "Planctomycetota        1071\n",
       "Desulfobacterota        939\n",
       "Acidobacteriota         873\n",
       "Spirochaetota           695\n",
       "Campylobacterota        550\n",
       "Firmicutes_C            395\n",
       "Myxococcota             393\n",
       "Firmicutes_B            323\n",
       "Nitrospirota            314\n",
       "Omnitrophota            282\n",
       "Gemmatimonadota         237\n",
       "Desulfobacterota_I      236\n",
       "Bdellovibrionota        224\n",
       "Elusimicrobiota         189\n",
       "Marinisomatota          186\n",
       "Chlamydiota             171\n",
       "Deinococcota            144\n",
       "Armatimonadota          139\n",
       "Synergistota            132\n",
       "Firmicutes_G            131\n",
       "Fibrobacterota          120\n",
       "Firmicutes_D            104\n",
       "Name: accession, dtype: int64"
      ]
     },
     "execution_count": 27,
     "metadata": {},
     "output_type": "execute_result"
    }
   ],
   "source": [
    "phylum_counts.sort_values(ascending=False)"
   ]
  },
  {
   "cell_type": "markdown",
   "id": "e018cba9-42ee-4749-a752-bf4ae011ff8e",
   "metadata": {},
   "source": [
    "## Plotting phylum selection to try to find conserved clades of microbes"
   ]
  },
  {
   "cell_type": "code",
   "execution_count": 28,
   "id": "3869c800-f3a8-4988-a9b6-90eaa14640c4",
   "metadata": {},
   "outputs": [
    {
     "name": "stdout",
     "output_type": "stream",
     "text": [
      "Number of leaf nodes:\t50745\n",
      "Total number of nodes:\t101489\n",
      "Rooted:\tYes\n",
      "Most distant node:\tRS_GCF_000008205_1\n",
      "Max. distance:\t2.646470\n"
     ]
    }
   ],
   "source": [
    "# create a version of gtdb tree with only clades of interest\n",
    "gtdb_pruned = gtdb_full.copy()\n",
    "\n",
    "gtdb_pruned.prune(np_pca_data.index)\n",
    "\n",
    "gtdb_pruned.describe()"
   ]
  },
  {
   "cell_type": "code",
   "execution_count": 29,
   "id": "e5080a5f-cf13-4700-a597-4e87d2666bed",
   "metadata": {},
   "outputs": [
    {
     "name": "stdout",
     "output_type": "stream",
     "text": [
      "Deleted node found:  c000892 100.0:p__Chlamydiota; c__Chlamydiia\n",
      "Finding unpruned parent node:\n",
      "New node found:  c000444 2 levels above original node c000892\n",
      "Checking leaf numbers: \n",
      "\t c000892 [1, 170]  found in pruned: False\n",
      "\t c000640 [13, 171]  found in pruned: False\n",
      "\t c000444 [1325, 184]  found in pruned: True\n",
      "\tChildren:  ['c000639', 'c001220'] Leaf counts:  [822, 90]\n",
      "Finding child of deleted node: \n",
      "\t 171\n",
      "\t 1\n",
      "\t 170\n",
      "\tfound: c001220\n",
      "True\n",
      "Assigning new node c001220 as representative of c000892\n",
      "\n",
      "Deleted node found:  c000285 100.0:p__Deinococcota; c__Deinococci\n",
      "Finding unpruned parent node:\n",
      "New node found:  c000194 1 levels above original node c000285\n",
      "Checking leaf numbers: \n",
      "\t c000285 [1, 143]  found in pruned: False\n",
      "\t c000194 [144, 7328]  found in pruned: True\n",
      "\tChildren:  ['c000286', 'c000420'] Leaf counts:  [7048, 140]\n",
      "Finding child of deleted node: \n",
      "\t 144\n",
      "\t 1\n",
      "\t 143\n",
      "\tfound: c000420\n",
      "True\n",
      "Assigning new node c000420 as representative of c000285\n",
      "\n",
      "Deleted node found:  c008059 100.0:p__Desulfobacterota_I; c__Desulfovibrionia; o__Desulfovibrionales\n",
      "Finding unpruned parent node:\n",
      "New node found:  c003969 3 levels above original node c008059\n",
      "Checking leaf numbers: \n",
      "\t c008059 [1, 235]  found in pruned: False\n",
      "\t c006480 [236, 7]  found in pruned: False\n",
      "\t c005119 [1, 243]  found in pruned: False\n",
      "\t c003969 [244, 17368]  found in pruned: True\n",
      "\tChildren:  ['c009808', 'c006481'] Leaf counts:  [221, 16076]\n",
      "Finding child of deleted node: \n",
      "\t 236\n",
      "\t 1\n",
      "\t 235\n",
      "\tfound: c009808\n",
      "True\n",
      "Assigning new node c009808 as representative of c008059\n",
      "\n",
      "Deleted node found:  c001128 45.0:p__Firmicutes\n",
      "Finding unpruned parent node:\n",
      "New node found:  c000592 2 levels above original node c001128\n",
      "Checking leaf numbers: \n",
      "\t c001128 [1, 4215]  found in pruned: False\n",
      "\t c000829 [17, 4216]  found in pruned: False\n",
      "\t c000592 [4233, 9126]  found in pruned: True\n",
      "\tChildren:  ['c000830', 'c001522'] Leaf counts:  [8549, 4029]\n",
      "Finding child of deleted node: \n",
      "\t 4216\n",
      "\t 1\n",
      "\t 4215\n",
      "\tfound: c001522\n",
      "True\n",
      "Assigning new node c001522 as representative of c001128\n",
      "\n"
     ]
    }
   ],
   "source": [
    "'''\n",
    "Getting the clade in the tree for each phylum: a little tricky because of deleted nodes.\n",
    "'''\n",
    "top_phyla_clades = pd.concat([names_map[names_map.str.contains(f'p__{p}$') | names_map.str.contains(f'p__{p};')] for p in top_phyla])\n",
    "rename_dict = {}\n",
    "for c in top_phyla_clades.index:\n",
    "    # if it was removed from the tree\n",
    "    if len(gtdb_pruned.search_nodes(name=c)) < 1:\n",
    "        print('Deleted node found: ', c, top_phyla_clades.loc[c])\n",
    "        # go up tree until a node is found\n",
    "        result = []\n",
    "        new_node = gtdb_full.search_nodes(name=c)[0]\n",
    "        levels = 0\n",
    "        print('Finding unpruned parent node:')\n",
    "        while len(result) < 1:\n",
    "            new_node = new_node.up\n",
    "            result = gtdb_pruned.search_nodes(name=new_node.name)\n",
    "            levels += 1\n",
    "        print('New node found: ', new_node.name, f'{levels} levels above original node {c}')\n",
    "        \n",
    "        # confirm new node's children are mostly this clade\n",
    "        print('Checking leaf numbers: ')\n",
    "        node = gtdb_full.search_nodes(name=c)[0]\n",
    "        while node.name != new_node.name:\n",
    "            print('\\t', node.name, [len(c.get_leaves()) for c in node.get_children()], f' found in pruned: {len(gtdb_pruned.search_nodes(name=node.name)) > 0}')\n",
    "            node = node.up\n",
    "        print('\\t', node.name, [len(c.get_leaves()) for c in node.get_children()], f' found in pruned: {len(gtdb_pruned.search_nodes(name=node.name)) > 0}')    \n",
    "        new_node_pruned = gtdb_pruned.search_nodes(name=new_node.name)[0]\n",
    "        print('\\tChildren: ', [c.name for c in new_node_pruned.get_children()], 'Leaf counts: ', [len(c.get_leaves()) for c in new_node_pruned.get_children()])\n",
    "        \n",
    "        print('Finding child of deleted node: ')\n",
    "        for node in gtdb_full.search_nodes(name=c)[0].traverse('levelorder'):\n",
    "            print('\\t', len(node.get_leaves()))\n",
    "            if len(gtdb_pruned.search_nodes(name=node.name)) > 0:\n",
    "                print(f'\\tfound: {node.name}')\n",
    "                break\n",
    "\n",
    "        new_node_child_names = [c.name for c in new_node_pruned.get_children()]\n",
    "        print(node.name in new_node_child_names)\n",
    "        print(f'Assigning new node {node.name} as representative of {c}')\n",
    "        rename_dict[c] = node.name\n",
    "        print()"
   ]
  },
  {
   "cell_type": "code",
   "execution_count": 30,
   "id": "3724cb96-8d02-45f7-b85f-dd5b20bbccda",
   "metadata": {},
   "outputs": [],
   "source": [
    "top_phyla_clades = top_phyla_clades.rename(index=rename_dict)"
   ]
  },
  {
   "cell_type": "markdown",
   "id": "5c8e52e4-9d6d-4366-8eb0-1e6691c4a7f3",
   "metadata": {},
   "source": [
    "# Generating variances explained for wavelets"
   ]
  },
  {
   "cell_type": "code",
   "execution_count": 62,
   "id": "6a8e961d-cd05-4462-8558-e55c703226f0",
   "metadata": {},
   "outputs": [],
   "source": [
    "# copy of Evan's code to construct centered wavelet coefficients\n",
    "BASE_PATH = \"/data/mhoffert/fiererlab/periodic_phyla/data/wavelet_data/Trait_project/\"\n",
    "tree = Tree(f\"{BASE_PATH}gtdb_tree.nw\", format=1, quoted_node_names=True)\n",
    "tree.name = 'c000000'"
   ]
  },
  {
   "cell_type": "code",
   "execution_count": 63,
   "id": "001e7f69-d415-4e84-905b-ea9c006d6a6a",
   "metadata": {},
   "outputs": [
    {
     "data": {
      "text/plain": [
       "[Tree node 'c000001' (0x7f5fe33fb8b), Tree node 'c000014' (0x7f6003427ac)]"
      ]
     },
     "execution_count": 63,
     "metadata": {},
     "output_type": "execute_result"
    }
   ],
   "source": [
    "tree.get_children()"
   ]
  },
  {
   "cell_type": "code",
   "execution_count": 64,
   "id": "73e2a132-6fc9-4188-850c-a6e03065c20b",
   "metadata": {},
   "outputs": [],
   "source": [
    "#Traverse the tree to collect internal node names\n",
    "internalnodes=[]\n",
    "i=0\n",
    "for node in tree.traverse(\"postorder\"):\n",
    "    if not node.is_leaf():\n",
    "        internalnodes.append(node.name)\n",
    "        i=i+1\n",
    "        \n",
    "#Add the outrooting (corresponds to \"scaling\" wavelet)        \n",
    "internalnodes.append(\"outroot\")"
   ]
  },
  {
   "cell_type": "code",
   "execution_count": 65,
   "id": "a4370036-5968-4465-a57b-4409283ee69b",
   "metadata": {},
   "outputs": [],
   "source": [
    "trait_data=pd.read_csv(f'{BASE_PATH}trait_data.tsv',sep='\\t') \n",
    "traits=trait_data.columns[1:]\n",
    "trait_data = trait_data.drop('Unnamed: 0', axis=1)\n",
    "\n",
    "#Mean-center each trait\n",
    "trait_data_centered=trait_data.apply(lambda x: x-x.mean())\n",
    "\n",
    "#Load wavelet transform\n",
    "haarlike=scipy.sparse.load_npz(f'{BASE_PATH}Haarlike.npz')\n",
    "\n",
    "#Recover the wavelet coefficients for each centered trait\n",
    "waveletcoefs_centered=np.zeros((11,50745))\n",
    "i=0\n",
    "for column in trait_data_centered.columns:\n",
    "    if column !='Unnamed: 0':\n",
    "        subdata=[]\n",
    "        subdata.append(column)\n",
    "        trait=trait_data_centered[column].values\n",
    "        wavelet=haarlike@trait\n",
    "        waveletcoefs_centered[i,:]=wavelet\n",
    "        i=i+1\n",
    "\n",
    "\n",
    "waveletcoefficients_centered=pd.DataFrame(data=waveletcoefs_centered, index=traits, columns=internalnodes)  "
   ]
  },
  {
   "cell_type": "code",
   "execution_count": 66,
   "id": "43ae7064-9ddc-44d8-8ffe-087435c33bb4",
   "metadata": {},
   "outputs": [
    {
     "data": {
      "text/html": [
       "<div>\n",
       "<style scoped>\n",
       "    .dataframe tbody tr th:only-of-type {\n",
       "        vertical-align: middle;\n",
       "    }\n",
       "\n",
       "    .dataframe tbody tr th {\n",
       "        vertical-align: top;\n",
       "    }\n",
       "\n",
       "    .dataframe thead th {\n",
       "        text-align: right;\n",
       "    }\n",
       "</style>\n",
       "<table border=\"1\" class=\"dataframe\">\n",
       "  <thead>\n",
       "    <tr style=\"text-align: right;\">\n",
       "      <th></th>\n",
       "      <th>aerobe</th>\n",
       "      <th>phototroph</th>\n",
       "      <th>3HP bicycle</th>\n",
       "      <th>3HP/4HB</th>\n",
       "      <th>Calvin Cycle</th>\n",
       "      <th>rAcoA homoacetogenic</th>\n",
       "      <th>rTCA I</th>\n",
       "      <th>rTCA II</th>\n",
       "      <th>growth_rate</th>\n",
       "      <th>genome_size</th>\n",
       "      <th>gc_percentage</th>\n",
       "    </tr>\n",
       "  </thead>\n",
       "  <tbody>\n",
       "    <tr>\n",
       "      <th>0</th>\n",
       "      <td>0.012481</td>\n",
       "      <td>0</td>\n",
       "      <td>0.0</td>\n",
       "      <td>0.0</td>\n",
       "      <td>0.0</td>\n",
       "      <td>0.0</td>\n",
       "      <td>0.0</td>\n",
       "      <td>0.0</td>\n",
       "      <td>3.180542</td>\n",
       "      <td>2358896</td>\n",
       "      <td>30.427073</td>\n",
       "    </tr>\n",
       "    <tr>\n",
       "      <th>1</th>\n",
       "      <td>0.008260</td>\n",
       "      <td>0</td>\n",
       "      <td>0.0</td>\n",
       "      <td>0.0</td>\n",
       "      <td>0.0</td>\n",
       "      <td>0.0</td>\n",
       "      <td>0.0</td>\n",
       "      <td>0.0</td>\n",
       "      <td>1.161323</td>\n",
       "      <td>3074498</td>\n",
       "      <td>42.095165</td>\n",
       "    </tr>\n",
       "    <tr>\n",
       "      <th>2</th>\n",
       "      <td>0.046911</td>\n",
       "      <td>0</td>\n",
       "      <td>0.0</td>\n",
       "      <td>0.0</td>\n",
       "      <td>0.0</td>\n",
       "      <td>0.0</td>\n",
       "      <td>0.0</td>\n",
       "      <td>0.0</td>\n",
       "      <td>4.600653</td>\n",
       "      <td>4400620</td>\n",
       "      <td>26.823927</td>\n",
       "    </tr>\n",
       "    <tr>\n",
       "      <th>3</th>\n",
       "      <td>0.081483</td>\n",
       "      <td>0</td>\n",
       "      <td>0.0</td>\n",
       "      <td>0.0</td>\n",
       "      <td>0.0</td>\n",
       "      <td>0.0</td>\n",
       "      <td>0.0</td>\n",
       "      <td>0.0</td>\n",
       "      <td>5.581473</td>\n",
       "      <td>1826176</td>\n",
       "      <td>40.947915</td>\n",
       "    </tr>\n",
       "    <tr>\n",
       "      <th>4</th>\n",
       "      <td>0.052110</td>\n",
       "      <td>0</td>\n",
       "      <td>0.0</td>\n",
       "      <td>0.0</td>\n",
       "      <td>0.0</td>\n",
       "      <td>0.0</td>\n",
       "      <td>0.0</td>\n",
       "      <td>0.0</td>\n",
       "      <td>2.326041</td>\n",
       "      <td>3256282</td>\n",
       "      <td>37.758278</td>\n",
       "    </tr>\n",
       "  </tbody>\n",
       "</table>\n",
       "</div>"
      ],
      "text/plain": [
       "     aerobe  phototroph  3HP bicycle  3HP/4HB  Calvin Cycle  \\\n",
       "0  0.012481           0          0.0      0.0           0.0   \n",
       "1  0.008260           0          0.0      0.0           0.0   \n",
       "2  0.046911           0          0.0      0.0           0.0   \n",
       "3  0.081483           0          0.0      0.0           0.0   \n",
       "4  0.052110           0          0.0      0.0           0.0   \n",
       "\n",
       "   rAcoA homoacetogenic  rTCA I  rTCA II  growth_rate  genome_size  \\\n",
       "0                   0.0     0.0      0.0     3.180542      2358896   \n",
       "1                   0.0     0.0      0.0     1.161323      3074498   \n",
       "2                   0.0     0.0      0.0     4.600653      4400620   \n",
       "3                   0.0     0.0      0.0     5.581473      1826176   \n",
       "4                   0.0     0.0      0.0     2.326041      3256282   \n",
       "\n",
       "   gc_percentage  \n",
       "0      30.427073  \n",
       "1      42.095165  \n",
       "2      26.823927  \n",
       "3      40.947915  \n",
       "4      37.758278  "
      ]
     },
     "execution_count": 66,
     "metadata": {},
     "output_type": "execute_result"
    }
   ],
   "source": [
    "trait_data.head()"
   ]
  },
  {
   "cell_type": "code",
   "execution_count": 67,
   "id": "2a20a68c-720e-4961-b5f1-78eb09401a1a",
   "metadata": {},
   "outputs": [
    {
     "data": {
      "text/html": [
       "<div>\n",
       "<style scoped>\n",
       "    .dataframe tbody tr th:only-of-type {\n",
       "        vertical-align: middle;\n",
       "    }\n",
       "\n",
       "    .dataframe tbody tr th {\n",
       "        vertical-align: top;\n",
       "    }\n",
       "\n",
       "    .dataframe thead th {\n",
       "        text-align: right;\n",
       "    }\n",
       "</style>\n",
       "<table border=\"1\" class=\"dataframe\">\n",
       "  <thead>\n",
       "    <tr style=\"text-align: right;\">\n",
       "      <th></th>\n",
       "      <th>c000214</th>\n",
       "      <th>c000145</th>\n",
       "      <th>c000098</th>\n",
       "      <th>c000018</th>\n",
       "      <th>c000096</th>\n",
       "      <th>c000058</th>\n",
       "      <th>c000034</th>\n",
       "      <th>c000008</th>\n",
       "      <th>c002311</th>\n",
       "      <th>c001263</th>\n",
       "      <th>...</th>\n",
       "      <th>c012988</th>\n",
       "      <th>c004769</th>\n",
       "      <th>c002192</th>\n",
       "      <th>c001622</th>\n",
       "      <th>c000869</th>\n",
       "      <th>c000088</th>\n",
       "      <th>c000028</th>\n",
       "      <th>c000014</th>\n",
       "      <th>c000000</th>\n",
       "      <th>outroot</th>\n",
       "    </tr>\n",
       "  </thead>\n",
       "  <tbody>\n",
       "    <tr>\n",
       "      <th>aerobe</th>\n",
       "      <td>-0.027331</td>\n",
       "      <td>-0.012333</td>\n",
       "      <td>-5.103687e-02</td>\n",
       "      <td>-0.013261</td>\n",
       "      <td>-0.022323</td>\n",
       "      <td>-0.025685</td>\n",
       "      <td>-1.572339e-02</td>\n",
       "      <td>-7.182927e-03</td>\n",
       "      <td>-0.091844</td>\n",
       "      <td>0.160925</td>\n",
       "      <td>...</td>\n",
       "      <td>0.371015</td>\n",
       "      <td>3.996640e-01</td>\n",
       "      <td>1.249661e-01</td>\n",
       "      <td>3.071765e-01</td>\n",
       "      <td>-7.538879e-02</td>\n",
       "      <td>-0.643498</td>\n",
       "      <td>-29.234253</td>\n",
       "      <td>-9.868189</td>\n",
       "      <td>-7.048139</td>\n",
       "      <td>1.014228e-13</td>\n",
       "    </tr>\n",
       "    <tr>\n",
       "      <th>phototroph</th>\n",
       "      <td>0.000000</td>\n",
       "      <td>0.000000</td>\n",
       "      <td>6.938894e-18</td>\n",
       "      <td>0.000000</td>\n",
       "      <td>0.000000</td>\n",
       "      <td>0.000000</td>\n",
       "      <td>-6.938894e-18</td>\n",
       "      <td>-6.938894e-18</td>\n",
       "      <td>-0.707107</td>\n",
       "      <td>0.408248</td>\n",
       "      <td>...</td>\n",
       "      <td>0.000000</td>\n",
       "      <td>-1.387779e-17</td>\n",
       "      <td>-3.469447e-18</td>\n",
       "      <td>4.062558e-02</td>\n",
       "      <td>-1.197626e-02</td>\n",
       "      <td>0.584615</td>\n",
       "      <td>-2.717147</td>\n",
       "      <td>-1.556815</td>\n",
       "      <td>-1.192106</td>\n",
       "      <td>2.312874e-12</td>\n",
       "    </tr>\n",
       "    <tr>\n",
       "      <th>3HP bicycle</th>\n",
       "      <td>0.000000</td>\n",
       "      <td>0.000000</td>\n",
       "      <td>0.000000e+00</td>\n",
       "      <td>0.000000</td>\n",
       "      <td>0.000000</td>\n",
       "      <td>0.000000</td>\n",
       "      <td>-4.336809e-19</td>\n",
       "      <td>-4.336809e-19</td>\n",
       "      <td>0.000000</td>\n",
       "      <td>0.000000</td>\n",
       "      <td>...</td>\n",
       "      <td>0.000000</td>\n",
       "      <td>-8.673617e-19</td>\n",
       "      <td>0.000000e+00</td>\n",
       "      <td>1.344411e-17</td>\n",
       "      <td>5.692061e-19</td>\n",
       "      <td>0.066179</td>\n",
       "      <td>-0.607449</td>\n",
       "      <td>-0.115033</td>\n",
       "      <td>-0.095354</td>\n",
       "      <td>5.275525e-13</td>\n",
       "    </tr>\n",
       "    <tr>\n",
       "      <th>3HP/4HB</th>\n",
       "      <td>0.000000</td>\n",
       "      <td>0.000000</td>\n",
       "      <td>0.000000e+00</td>\n",
       "      <td>0.000000</td>\n",
       "      <td>0.000000</td>\n",
       "      <td>0.000000</td>\n",
       "      <td>-2.168404e-19</td>\n",
       "      <td>0.000000e+00</td>\n",
       "      <td>0.000000</td>\n",
       "      <td>0.000000</td>\n",
       "      <td>...</td>\n",
       "      <td>0.000000</td>\n",
       "      <td>-4.336809e-19</td>\n",
       "      <td>-3.252607e-19</td>\n",
       "      <td>-9.324139e-18</td>\n",
       "      <td>1.138412e-18</td>\n",
       "      <td>0.031104</td>\n",
       "      <td>-0.289830</td>\n",
       "      <td>-0.053650</td>\n",
       "      <td>-0.044472</td>\n",
       "      <td>-1.554456e-13</td>\n",
       "    </tr>\n",
       "    <tr>\n",
       "      <th>Calvin Cycle</th>\n",
       "      <td>0.000000</td>\n",
       "      <td>0.000000</td>\n",
       "      <td>1.387779e-17</td>\n",
       "      <td>0.000000</td>\n",
       "      <td>0.000000</td>\n",
       "      <td>0.000000</td>\n",
       "      <td>-6.938894e-18</td>\n",
       "      <td>-4.163336e-17</td>\n",
       "      <td>0.000000</td>\n",
       "      <td>0.000000</td>\n",
       "      <td>...</td>\n",
       "      <td>0.000000</td>\n",
       "      <td>-1.387779e-17</td>\n",
       "      <td>1.040834e-17</td>\n",
       "      <td>-3.400058e-16</td>\n",
       "      <td>-7.632783e-17</td>\n",
       "      <td>1.137290</td>\n",
       "      <td>-7.977920</td>\n",
       "      <td>-1.966558</td>\n",
       "      <td>-1.689400</td>\n",
       "      <td>4.852886e-12</td>\n",
       "    </tr>\n",
       "  </tbody>\n",
       "</table>\n",
       "<p>5 rows × 50745 columns</p>\n",
       "</div>"
      ],
      "text/plain": [
       "               c000214   c000145       c000098   c000018   c000096   c000058  \\\n",
       "aerobe       -0.027331 -0.012333 -5.103687e-02 -0.013261 -0.022323 -0.025685   \n",
       "phototroph    0.000000  0.000000  6.938894e-18  0.000000  0.000000  0.000000   \n",
       "3HP bicycle   0.000000  0.000000  0.000000e+00  0.000000  0.000000  0.000000   \n",
       "3HP/4HB       0.000000  0.000000  0.000000e+00  0.000000  0.000000  0.000000   \n",
       "Calvin Cycle  0.000000  0.000000  1.387779e-17  0.000000  0.000000  0.000000   \n",
       "\n",
       "                   c000034       c000008   c002311   c001263  ...   c012988  \\\n",
       "aerobe       -1.572339e-02 -7.182927e-03 -0.091844  0.160925  ...  0.371015   \n",
       "phototroph   -6.938894e-18 -6.938894e-18 -0.707107  0.408248  ...  0.000000   \n",
       "3HP bicycle  -4.336809e-19 -4.336809e-19  0.000000  0.000000  ...  0.000000   \n",
       "3HP/4HB      -2.168404e-19  0.000000e+00  0.000000  0.000000  ...  0.000000   \n",
       "Calvin Cycle -6.938894e-18 -4.163336e-17  0.000000  0.000000  ...  0.000000   \n",
       "\n",
       "                   c004769       c002192       c001622       c000869  \\\n",
       "aerobe        3.996640e-01  1.249661e-01  3.071765e-01 -7.538879e-02   \n",
       "phototroph   -1.387779e-17 -3.469447e-18  4.062558e-02 -1.197626e-02   \n",
       "3HP bicycle  -8.673617e-19  0.000000e+00  1.344411e-17  5.692061e-19   \n",
       "3HP/4HB      -4.336809e-19 -3.252607e-19 -9.324139e-18  1.138412e-18   \n",
       "Calvin Cycle -1.387779e-17  1.040834e-17 -3.400058e-16 -7.632783e-17   \n",
       "\n",
       "               c000088    c000028   c000014   c000000       outroot  \n",
       "aerobe       -0.643498 -29.234253 -9.868189 -7.048139  1.014228e-13  \n",
       "phototroph    0.584615  -2.717147 -1.556815 -1.192106  2.312874e-12  \n",
       "3HP bicycle   0.066179  -0.607449 -0.115033 -0.095354  5.275525e-13  \n",
       "3HP/4HB       0.031104  -0.289830 -0.053650 -0.044472 -1.554456e-13  \n",
       "Calvin Cycle  1.137290  -7.977920 -1.966558 -1.689400  4.852886e-12  \n",
       "\n",
       "[5 rows x 50745 columns]"
      ]
     },
     "execution_count": 67,
     "metadata": {},
     "output_type": "execute_result"
    }
   ],
   "source": [
    "waveletcoefficients_centered.head()"
   ]
  },
  {
   "cell_type": "code",
   "execution_count": 68,
   "id": "6cc5d1f5-9568-4f19-a44e-26223a1d4829",
   "metadata": {},
   "outputs": [
    {
     "name": "stdout",
     "output_type": "stream",
     "text": [
      "aerobe\n",
      "phototroph\n",
      "3HP bicycle\n",
      "3HP/4HB\n",
      "Calvin Cycle\n",
      "rAcoA homoacetogenic\n",
      "rTCA I\n",
      "rTCA II\n",
      "growth_rate\n",
      "genome_size\n",
      "gc_percentage\n",
      "CPU times: user 15min, sys: 19min 35s, total: 34min 36s\n",
      "Wall time: 2min 13s\n"
     ]
    }
   ],
   "source": [
    "%%time\n",
    "# Calculate explained variance for each trait\n",
    "# old code \n",
    "# explained_variance = np.zeros((11, 50745))\n",
    "# for i in range(11):\n",
    "#     percentages=[]\n",
    "#     #Sort the wavelet coefficients in descending order\n",
    "#     wavecoefssort=-np.sort(-abs(waveletcoefs_centered[i,:]))\n",
    "#     for j in range(50745):\n",
    "#         #Compute percent variance explained\n",
    "#         percentages.append(np.linalg.norm(wavecoefssort[0:j])/np.linalg.norm(trait_data_centered.iloc[:,i].values))\n",
    "#     explained_variance[i, :] = percentages\n",
    "\n",
    "\n",
    "# Absolute value method you were doing \n",
    "# old code\n",
    "# explained_absval=np.zeros((11,50745))\n",
    "# for i in range(11):\n",
    "#     percentages=[]\n",
    "#     #Sort the wavelet coefficients in descending order\n",
    "#     wavecoefssort=-np.sort(-abs(waveletcoefs_centered[i,:]))\n",
    "#     for j in range(50745):\n",
    "#         #Compute percent variance explained\n",
    "#         percentages.append(np.sum(wavecoefssort[0:j])/np.sum(wavecoefssort))\n",
    "#     explained_absval[i,:]=percentages\n",
    "\n",
    "\n",
    "varexp = []\n",
    "varexp_abs = []\n",
    "for trait, row in waveletcoefficients_centered.iterrows():\n",
    "    print(trait)\n",
    "    \n",
    "    # sorted absolute value version\n",
    "    abs_sort = row.apply(np.abs).sort_values(ascending=False)\n",
    "    \n",
    "    # calculate variances explained\n",
    "    # denominator: norm of trait data\n",
    "    denom = np.linalg.norm(trait_data_centered.loc[:, trait].values)\n",
    "    norms = [np.linalg.norm(abs_sort.iloc[0:i]) / denom for i in range(len(abs_sort))]\n",
    "    \n",
    "    total_abs = abs_sort.sum()\n",
    "    norms_abs = [abs_sort.iloc[0:i].sum() / total_abs for i in range(len(abs_sort))]\n",
    "        \n",
    "    # add series per trait\n",
    "    varexp.append(pd.Series(name=trait, \n",
    "                            index=abs_sort.index,\n",
    "                            data=norms))\n",
    "    \n",
    "    # add series per trait\n",
    "    varexp_abs.append(pd.Series(name=trait, \n",
    "                            index=abs_sort.index,\n",
    "                            data=norms_abs))\n",
    "    \n",
    "    "
   ]
  },
  {
   "cell_type": "code",
   "execution_count": 69,
   "id": "e87977a4-7501-4380-9a45-eea32dc27a41",
   "metadata": {},
   "outputs": [
    {
     "name": "stdout",
     "output_type": "stream",
     "text": [
      "aerobe\n",
      "phototroph\n",
      "3HP bicycle\n",
      "3HP/4HB\n",
      "Calvin Cycle\n",
      "rAcoA homoacetogenic\n",
      "rTCA I\n",
      "rTCA II\n",
      "growth_rate\n",
      "genome_size\n",
      "gc_percentage\n"
     ]
    }
   ],
   "source": [
    "# calculate individual variances explained by subtracting each data from previous point\n",
    "varexp_ind = []\n",
    "varexp_abs_ind = []\n",
    "for vec, vec_abs in zip(varexp, varexp_abs):\n",
    "    print(vec.name)\n",
    "    a = vec.drop('outroot').iloc[1:]\n",
    "    b = vec.drop('outroot').iloc[:-1]\n",
    "    varexp_ind.append(pd.Series(index=b.index, data=a.values - b.values, name=vec.name))\n",
    "    \n",
    "    a = vec_abs.drop('outroot').iloc[1:]\n",
    "    b = vec_abs.drop('outroot').iloc[:-1]\n",
    "    varexp_abs_ind.append(pd.Series(index=b.index, data=a.values - b.values, name=vec_abs.name))\n"
   ]
  },
  {
   "cell_type": "code",
   "execution_count": 70,
   "id": "82fefa4a-5d83-4477-982c-eb64a95600b7",
   "metadata": {},
   "outputs": [],
   "source": [
    "varexp_ind_df = pd.concat(varexp_ind, axis=1).fillna(0)\n",
    "varexp_ind_abs_df = pd.concat(varexp_abs_ind, axis=1)"
   ]
  },
  {
   "cell_type": "code",
   "execution_count": 71,
   "id": "015edd00-8318-43dc-90da-7ec65bb7edd0",
   "metadata": {},
   "outputs": [
    {
     "data": {
      "text/html": [
       "<div>\n",
       "<style scoped>\n",
       "    .dataframe tbody tr th:only-of-type {\n",
       "        vertical-align: middle;\n",
       "    }\n",
       "\n",
       "    .dataframe tbody tr th {\n",
       "        vertical-align: top;\n",
       "    }\n",
       "\n",
       "    .dataframe thead th {\n",
       "        text-align: right;\n",
       "    }\n",
       "</style>\n",
       "<table border=\"1\" class=\"dataframe\">\n",
       "  <thead>\n",
       "    <tr style=\"text-align: right;\">\n",
       "      <th></th>\n",
       "      <th>aerobe</th>\n",
       "      <th>phototroph</th>\n",
       "      <th>3HP bicycle</th>\n",
       "      <th>3HP/4HB</th>\n",
       "      <th>Calvin Cycle</th>\n",
       "      <th>rAcoA homoacetogenic</th>\n",
       "      <th>rTCA I</th>\n",
       "      <th>rTCA II</th>\n",
       "      <th>growth_rate</th>\n",
       "      <th>genome_size</th>\n",
       "      <th>gc_percentage</th>\n",
       "    </tr>\n",
       "  </thead>\n",
       "  <tbody>\n",
       "    <tr>\n",
       "      <th>0</th>\n",
       "      <td>3.646121e-01</td>\n",
       "      <td>0.301664</td>\n",
       "      <td>0.101311</td>\n",
       "      <td>0.124410</td>\n",
       "      <td>0.223044</td>\n",
       "      <td>0.137168</td>\n",
       "      <td>0.159423</td>\n",
       "      <td>0.122057</td>\n",
       "      <td>2.605792e-01</td>\n",
       "      <td>3.122489e-01</td>\n",
       "      <td>4.970016e-01</td>\n",
       "    </tr>\n",
       "    <tr>\n",
       "      <th>1</th>\n",
       "      <td>1.236714e-01</td>\n",
       "      <td>0.073532</td>\n",
       "      <td>0.039811</td>\n",
       "      <td>0.049028</td>\n",
       "      <td>0.075113</td>\n",
       "      <td>0.055165</td>\n",
       "      <td>0.057262</td>\n",
       "      <td>0.046147</td>\n",
       "      <td>7.826341e-02</td>\n",
       "      <td>5.209855e-02</td>\n",
       "      <td>6.790223e-02</td>\n",
       "    </tr>\n",
       "    <tr>\n",
       "      <th>2</th>\n",
       "      <td>4.718858e-02</td>\n",
       "      <td>0.045727</td>\n",
       "      <td>0.028940</td>\n",
       "      <td>0.032377</td>\n",
       "      <td>0.051691</td>\n",
       "      <td>0.039675</td>\n",
       "      <td>0.043633</td>\n",
       "      <td>0.024729</td>\n",
       "      <td>6.095595e-02</td>\n",
       "      <td>4.336223e-02</td>\n",
       "      <td>3.772745e-02</td>\n",
       "    </tr>\n",
       "    <tr>\n",
       "      <th>3</th>\n",
       "      <td>4.063921e-02</td>\n",
       "      <td>0.034255</td>\n",
       "      <td>0.024432</td>\n",
       "      <td>0.027419</td>\n",
       "      <td>0.029243</td>\n",
       "      <td>0.031209</td>\n",
       "      <td>0.036742</td>\n",
       "      <td>0.018113</td>\n",
       "      <td>2.446363e-02</td>\n",
       "      <td>3.797500e-02</td>\n",
       "      <td>2.684838e-02</td>\n",
       "    </tr>\n",
       "    <tr>\n",
       "      <th>4</th>\n",
       "      <td>2.597832e-02</td>\n",
       "      <td>0.024809</td>\n",
       "      <td>0.018606</td>\n",
       "      <td>0.016978</td>\n",
       "      <td>0.022100</td>\n",
       "      <td>0.019958</td>\n",
       "      <td>0.032381</td>\n",
       "      <td>0.012033</td>\n",
       "      <td>1.780103e-02</td>\n",
       "      <td>2.835931e-02</td>\n",
       "      <td>2.532633e-02</td>\n",
       "    </tr>\n",
       "    <tr>\n",
       "      <th>...</th>\n",
       "      <td>...</td>\n",
       "      <td>...</td>\n",
       "      <td>...</td>\n",
       "      <td>...</td>\n",
       "      <td>...</td>\n",
       "      <td>...</td>\n",
       "      <td>...</td>\n",
       "      <td>...</td>\n",
       "      <td>...</td>\n",
       "      <td>...</td>\n",
       "      <td>...</td>\n",
       "    </tr>\n",
       "    <tr>\n",
       "      <th>50738</th>\n",
       "      <td>5.551115e-16</td>\n",
       "      <td>0.000000</td>\n",
       "      <td>0.000000</td>\n",
       "      <td>0.000000</td>\n",
       "      <td>0.000000</td>\n",
       "      <td>0.000000</td>\n",
       "      <td>0.000000</td>\n",
       "      <td>0.000000</td>\n",
       "      <td>4.030110e-14</td>\n",
       "      <td>1.276756e-14</td>\n",
       "      <td>1.887379e-15</td>\n",
       "    </tr>\n",
       "    <tr>\n",
       "      <th>50739</th>\n",
       "      <td>2.220446e-16</td>\n",
       "      <td>0.000000</td>\n",
       "      <td>0.000000</td>\n",
       "      <td>0.000000</td>\n",
       "      <td>0.000000</td>\n",
       "      <td>0.000000</td>\n",
       "      <td>0.000000</td>\n",
       "      <td>0.000000</td>\n",
       "      <td>2.320366e-14</td>\n",
       "      <td>1.254552e-14</td>\n",
       "      <td>1.443290e-15</td>\n",
       "    </tr>\n",
       "    <tr>\n",
       "      <th>50740</th>\n",
       "      <td>4.440892e-16</td>\n",
       "      <td>0.000000</td>\n",
       "      <td>0.000000</td>\n",
       "      <td>0.000000</td>\n",
       "      <td>0.000000</td>\n",
       "      <td>0.000000</td>\n",
       "      <td>0.000000</td>\n",
       "      <td>0.000000</td>\n",
       "      <td>1.754152e-14</td>\n",
       "      <td>1.776357e-15</td>\n",
       "      <td>7.771561e-16</td>\n",
       "    </tr>\n",
       "    <tr>\n",
       "      <th>50741</th>\n",
       "      <td>0.000000e+00</td>\n",
       "      <td>0.000000</td>\n",
       "      <td>0.000000</td>\n",
       "      <td>0.000000</td>\n",
       "      <td>0.000000</td>\n",
       "      <td>0.000000</td>\n",
       "      <td>0.000000</td>\n",
       "      <td>0.000000</td>\n",
       "      <td>3.330669e-15</td>\n",
       "      <td>6.661338e-16</td>\n",
       "      <td>9.992007e-16</td>\n",
       "    </tr>\n",
       "    <tr>\n",
       "      <th>50742</th>\n",
       "      <td>-2.220446e-16</td>\n",
       "      <td>0.000000</td>\n",
       "      <td>0.000000</td>\n",
       "      <td>0.000000</td>\n",
       "      <td>0.000000</td>\n",
       "      <td>0.000000</td>\n",
       "      <td>0.000000</td>\n",
       "      <td>0.000000</td>\n",
       "      <td>4.440892e-16</td>\n",
       "      <td>4.440892e-16</td>\n",
       "      <td>3.330669e-16</td>\n",
       "    </tr>\n",
       "  </tbody>\n",
       "</table>\n",
       "<p>50743 rows × 11 columns</p>\n",
       "</div>"
      ],
      "text/plain": [
       "             aerobe  phototroph  3HP bicycle   3HP/4HB  Calvin Cycle  \\\n",
       "0      3.646121e-01    0.301664     0.101311  0.124410      0.223044   \n",
       "1      1.236714e-01    0.073532     0.039811  0.049028      0.075113   \n",
       "2      4.718858e-02    0.045727     0.028940  0.032377      0.051691   \n",
       "3      4.063921e-02    0.034255     0.024432  0.027419      0.029243   \n",
       "4      2.597832e-02    0.024809     0.018606  0.016978      0.022100   \n",
       "...             ...         ...          ...       ...           ...   \n",
       "50738  5.551115e-16    0.000000     0.000000  0.000000      0.000000   \n",
       "50739  2.220446e-16    0.000000     0.000000  0.000000      0.000000   \n",
       "50740  4.440892e-16    0.000000     0.000000  0.000000      0.000000   \n",
       "50741  0.000000e+00    0.000000     0.000000  0.000000      0.000000   \n",
       "50742 -2.220446e-16    0.000000     0.000000  0.000000      0.000000   \n",
       "\n",
       "       rAcoA homoacetogenic    rTCA I   rTCA II   growth_rate   genome_size  \\\n",
       "0                  0.137168  0.159423  0.122057  2.605792e-01  3.122489e-01   \n",
       "1                  0.055165  0.057262  0.046147  7.826341e-02  5.209855e-02   \n",
       "2                  0.039675  0.043633  0.024729  6.095595e-02  4.336223e-02   \n",
       "3                  0.031209  0.036742  0.018113  2.446363e-02  3.797500e-02   \n",
       "4                  0.019958  0.032381  0.012033  1.780103e-02  2.835931e-02   \n",
       "...                     ...       ...       ...           ...           ...   \n",
       "50738              0.000000  0.000000  0.000000  4.030110e-14  1.276756e-14   \n",
       "50739              0.000000  0.000000  0.000000  2.320366e-14  1.254552e-14   \n",
       "50740              0.000000  0.000000  0.000000  1.754152e-14  1.776357e-15   \n",
       "50741              0.000000  0.000000  0.000000  3.330669e-15  6.661338e-16   \n",
       "50742              0.000000  0.000000  0.000000  4.440892e-16  4.440892e-16   \n",
       "\n",
       "       gc_percentage  \n",
       "0       4.970016e-01  \n",
       "1       6.790223e-02  \n",
       "2       3.772745e-02  \n",
       "3       2.684838e-02  \n",
       "4       2.532633e-02  \n",
       "...              ...  \n",
       "50738   1.887379e-15  \n",
       "50739   1.443290e-15  \n",
       "50740   7.771561e-16  \n",
       "50741   9.992007e-16  \n",
       "50742   3.330669e-16  \n",
       "\n",
       "[50743 rows x 11 columns]"
      ]
     },
     "execution_count": 71,
     "metadata": {},
     "output_type": "execute_result"
    }
   ],
   "source": [
    "varexp_ind_rank_df = pd.concat([i.reset_index(drop=True) for i in varexp_ind], axis=1).fillna(0)\n",
    "varexp_ind_rank_abs_df = pd.concat([i.reset_index(drop=True) for i in varexp_abs_ind], axis=1)\n",
    "varexp_ind_rank_df"
   ]
  }
 ],
 "metadata": {
  "kernelspec": {
   "display_name": "Python 3 (ipykernel)",
   "language": "python",
   "name": "python3"
  },
  "language_info": {
   "codemirror_mode": {
    "name": "ipython",
    "version": 3
   },
   "file_extension": ".py",
   "mimetype": "text/x-python",
   "name": "python",
   "nbconvert_exporter": "python",
   "pygments_lexer": "ipython3",
   "version": "3.10.10"
  }
 },
 "nbformat": 4,
 "nbformat_minor": 5
}
