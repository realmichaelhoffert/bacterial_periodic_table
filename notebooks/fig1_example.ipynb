{
 "cells": [
  {
   "cell_type": "code",
   "execution_count": 2,
   "id": "645c0eac-103d-472d-98a7-2cebc304fe91",
   "metadata": {},
   "outputs": [],
   "source": [
    "%load_ext autoreload\n",
    "%autoreload 2"
   ]
  },
  {
   "cell_type": "code",
   "execution_count": 3,
   "id": "2492f892-6140-4352-86a5-a957a6d2f060",
   "metadata": {},
   "outputs": [],
   "source": [
    "import sys\n",
    "sys.path = ['/data/mhoffert/tools/ete/'] + sys.path[:-1]\n",
    "from ete3 import Tree\n",
    "from ete3.treeview import faces, AttrFace, TextFace, TreeStyle, NodeStyle, CircleFace, RectFace\n",
    "\n",
    "# python libraries\n",
    "import pickle\n",
    "import itertools\n",
    "import random\n",
    "import os\n",
    "\n",
    "\n",
    "# data\n",
    "import pandas as pd\n",
    "import numpy as np\n",
    "\n",
    "# scipy\n",
    "import scipy.stats\n",
    "from scipy.spatial import ConvexHull, Delaunay\n",
    "from scipy.spatial.distance import cdist, pdist, squareform\n",
    "from scipy.cluster.hierarchy import dendrogram, linkage\n",
    "\n",
    "# sklearn\n",
    "from sklearn import manifold\n",
    "from sklearn import svm\n",
    "from sklearn.datasets import make_blobs\n",
    "from sklearn.utils import check_random_state\n",
    "from sklearn.preprocessing import scale, StandardScaler\n",
    "from sklearn.metrics.pairwise import pairwise_distances\n",
    "from sklearn.metrics import f1_score\n",
    "\n",
    "# clustering\n",
    "from sklearn.cluster import DBSCAN\n",
    "import hdbscan\n",
    "\n",
    "# statistics\n",
    "import mantel\n",
    "\n",
    "# plotting\n",
    "import seaborn as sns\n",
    "import matplotlib.pyplot as plt\n",
    "import matplotlib.gridspec as gridspec\n",
    "from matplotlib.collections import PolyCollection\n",
    "import matplotlib\n",
    "import matplotlib.cm as cm\n",
    "import matplotlib.patches as patches\n",
    "from matplotlib.colors import to_hex\n",
    "\n",
    "# additional plotting code\n",
    "import sys\n",
    "import time\n",
    "sys.path.append('/data/mhoffert/fiererlab/periodic_phyla/code/')\n",
    "\n",
    "from tufte_box import *\n",
    "\n",
    "# displays\n",
    "from IPython.display import display, clear_output\n",
    "\n",
    "# ENS-t-SNE\n",
    "sys.path.append('/data/mhoffert/tools/MPSE-TSNE/ENS-t-SNE/')\n",
    "import mview\n",
    "\n",
    "# for visualizing trees\n",
    "os.environ['QT_QPA_PLATFORM']='offscreen'"
   ]
  },
  {
   "cell_type": "markdown",
   "id": "27d66888-5c16-4c85-b08c-a2046c6bb3ed",
   "metadata": {},
   "source": [
    "## Outline\n",
    "Finalized code to make the periodic table figure."
   ]
  },
  {
   "cell_type": "code",
   "execution_count": 4,
   "id": "028fde36-c801-48c3-a8bb-53aa3ddc7f11",
   "metadata": {},
   "outputs": [
    {
     "data": {
      "text/plain": [
       "'3.1.2'"
      ]
     },
     "execution_count": 4,
     "metadata": {},
     "output_type": "execute_result"
    }
   ],
   "source": [
    "import ete3 as ete3\n",
    "ete3.__version__"
   ]
  },
  {
   "cell_type": "markdown",
   "id": "6e5fb062-c53c-49f1-a636-a1beb36f32a5",
   "metadata": {},
   "source": [
    "# Figure 1: Example figure"
   ]
  },
  {
   "cell_type": "code",
   "execution_count": 5,
   "id": "3c2604fd-c320-4e33-b3b3-9037a03c6817",
   "metadata": {},
   "outputs": [
    {
     "data": {
      "text/html": [
       "<div>\n",
       "<style scoped>\n",
       "    .dataframe tbody tr th:only-of-type {\n",
       "        vertical-align: middle;\n",
       "    }\n",
       "\n",
       "    .dataframe tbody tr th {\n",
       "        vertical-align: top;\n",
       "    }\n",
       "\n",
       "    .dataframe thead th {\n",
       "        text-align: right;\n",
       "    }\n",
       "</style>\n",
       "<table border=\"1\" class=\"dataframe\">\n",
       "  <thead>\n",
       "    <tr style=\"text-align: right;\">\n",
       "      <th></th>\n",
       "      <th>0</th>\n",
       "      <th>1</th>\n",
       "      <th>2</th>\n",
       "    </tr>\n",
       "  </thead>\n",
       "  <tbody>\n",
       "    <tr>\n",
       "      <th>i00</th>\n",
       "      <td>0.017205</td>\n",
       "      <td>0.000000e+00</td>\n",
       "      <td>592.186061</td>\n",
       "    </tr>\n",
       "    <tr>\n",
       "      <th>i01</th>\n",
       "      <td>0.009933</td>\n",
       "      <td>6.938894e-18</td>\n",
       "      <td>-101.189925</td>\n",
       "    </tr>\n",
       "    <tr>\n",
       "      <th>i02</th>\n",
       "      <td>0.000000</td>\n",
       "      <td>0.000000e+00</td>\n",
       "      <td>136.970877</td>\n",
       "    </tr>\n",
       "    <tr>\n",
       "      <th>i03</th>\n",
       "      <td>0.008885</td>\n",
       "      <td>-6.938894e-18</td>\n",
       "      <td>320.640497</td>\n",
       "    </tr>\n",
       "    <tr>\n",
       "      <th>i04</th>\n",
       "      <td>-0.030143</td>\n",
       "      <td>1.387779e-17</td>\n",
       "      <td>-163.199411</td>\n",
       "    </tr>\n",
       "  </tbody>\n",
       "</table>\n",
       "</div>"
      ],
      "text/plain": [
       "            0             1           2\n",
       "i00  0.017205  0.000000e+00  592.186061\n",
       "i01  0.009933  6.938894e-18 -101.189925\n",
       "i02  0.000000  0.000000e+00  136.970877\n",
       "i03  0.008885 -6.938894e-18  320.640497\n",
       "i04 -0.030143  1.387779e-17 -163.199411"
      ]
     },
     "execution_count": 5,
     "metadata": {},
     "output_type": "execute_result"
    }
   ],
   "source": [
    "# load tree\n",
    "fig1_tree = Tree('/data/mhoffert/fiererlab/periodic_phyla/data/wavelet_data/61_otus_unannotated.tree', format=1, quoted_node_names=True)\n",
    "\n",
    "# relabel leaves and nodes in postorder\n",
    "c = 0\n",
    "i = 0\n",
    "for node in fig1_tree.traverse(strategy='postorder'):\n",
    "    if node.is_leaf():\n",
    "        node.name = f'c{c:02}'\n",
    "        c += 1\n",
    "    else:\n",
    "        node.name = f'i{i:02}'\n",
    "        i += 1\n",
    "\n",
    "# load wavelets\n",
    "with open('/data/mhoffert/fiererlab/periodic_phyla/data/wavelet_data/testtraitdata.pkl', 'rb') as handle:\n",
    "    fig1_data = pickle.load(handle)\n",
    "\n",
    "# reset index\n",
    "fig1_data.index = [f'c{i:02}' for i in range(22)]\n",
    "fig1_data.head()\n",
    "\n",
    "\n",
    "# load wavelets\n",
    "fig1_wavelets = pd.read_csv('/data/mhoffert/fiererlab/periodic_phyla/data/wavelet_data/test_centered_wavelet_coef_noisy.csv', header=None).T.iloc[:-1, :]\n",
    "internal_nodes = [n.name for n in fig1_tree.traverse(strategy='postorder') if not n.is_leaf()]\n",
    "\n",
    "fig1_wavelets.index = internal_nodes\n",
    "fig1_wavelets.head()"
   ]
  },
  {
   "cell_type": "code",
   "execution_count": 6,
   "id": "966d7614-e54e-4af6-80d1-be9ad0681e0b",
   "metadata": {},
   "outputs": [
    {
     "name": "stderr",
     "output_type": "stream",
     "text": [
      "divide by zero encountered in log10\n",
      "invalid value encountered in log10\n"
     ]
    },
    {
     "data": {
      "text/plain": [
       "<Axes: ylabel='Count'>"
      ]
     },
     "execution_count": 6,
     "metadata": {},
     "output_type": "execute_result"
    },
    {
     "data": {
      "image/png": "[encoded data removed]",
      "text/plain": [
       "<Figure size 432x288 with 1 Axes>"
      ]
     },
     "metadata": {
      "needs_background": "light"
     },
     "output_type": "display_data"
    }
   ],
   "source": [
    "sns.histplot(fig1_wavelets.apply(lambda x: np.log10(x)))"
   ]
  },
  {
   "cell_type": "code",
   "execution_count": 7,
   "id": "269964d3-0b30-4beb-a7d3-133d622511a7",
   "metadata": {},
   "outputs": [
    {
     "data": {
      "text/plain": [
       "0    11\n",
       "1     8\n",
       "2    11\n",
       "dtype: int64"
      ]
     },
     "execution_count": 7,
     "metadata": {},
     "output_type": "execute_result"
    }
   ],
   "source": [
    "(fig1_wavelets > 0).sum()"
   ]
  },
  {
   "cell_type": "code",
   "execution_count": 8,
   "id": "14bac104-4162-45bd-9c8d-a664cd1985b0",
   "metadata": {},
   "outputs": [],
   "source": [
    "fig1_wavelets = fig1_wavelets.rename(columns={0:'Trait 1', 1:'Trait 2', 2:'Trait 3'})"
   ]
  },
  {
   "cell_type": "code",
   "execution_count": 9,
   "id": "fc6f1cf4-0cb2-4974-8a24-a09e7076a71b",
   "metadata": {},
   "outputs": [],
   "source": [
    "def fig1_layout(node, tip_data, wavelet_data, trait):\n",
    "    '''\n",
    "    Layout function for tree generated by collapse_to_phylum\n",
    "    '''\n",
    "    # print(node.name)\n",
    "    internal_ns = NodeStyle()\n",
    "    internal_ns['size'] = 0\n",
    "    internal_ns['vt_line_width'] = 1\n",
    "    internal_ns['hz_line_width'] = 1\n",
    "    \n",
    "    if node.is_leaf():\n",
    "        cm = matplotlib.colormaps['gnuplot']\n",
    "        if tip_data.loc[node.name, trait] != 0:\n",
    "            c = to_hex(cm(tip_data.loc[node.name, trait]))\n",
    "        else:\n",
    "            c = '#808080'\n",
    "        R1 = RectFace(width=4, height=4, fgcolor=c, bgcolor=c)\n",
    "        faces.add_face_to_node(R1, node, 0, position='aligned')\n",
    "    else:\n",
    "        ''\n",
    "        t1 = TextFace(node.name)\n",
    "        faces.add_face_to_node(t1, node, 0)\n",
    "        # if np.abs(wavelet_data.loc[node.name, trait]) > 1e-15:\n",
    "        #     internal_ns['size'] = 10\n",
    "        \n",
    "\n",
    "    node.img_style = internal_ns\n",
    "\n",
    "def fig1_ts(**args):\n",
    "    ts = TreeStyle()\n",
    "    ts.layout_fn = lambda n: fig1_layout(n, **args)\n",
    "    # ts.mode = 'c'\n",
    "    ts.draw_guiding_lines = True\n",
    "    ts.show_leaf_name = True\n",
    "    return ts\n",
    "    "
   ]
  },
  {
   "cell_type": "code",
   "execution_count": 10,
   "id": "d120fed7-943c-468c-aa4b-22ada9e8ab05",
   "metadata": {},
   "outputs": [
    {
     "data": {
      "image/png": "[encoded data removed]",
      "text/plain": [
       "<IPython.core.display.Image object>"
      ]
     },
     "execution_count": 10,
     "metadata": {},
     "output_type": "execute_result"
    }
   ],
   "source": [
    "# fig1_tree.render('%%inline', tree_style=fig1_ts(tip_data=fig1_data, wavelet_data=fig1_wavelets, trait='Trait 2'), w=500, h=500)\n",
    "fig1_tree.render('%%inline', tree_style=fig1_ts(tip_data=fig1_data, wavelet_data=fig1_wavelets, trait='Trait 2')) #, w=500, h=500)"
   ]
  },
  {
   "cell_type": "code",
   "execution_count": 38,
   "id": "2f9a8bc8-2630-45e6-ab6f-bfc43ab97b86",
   "metadata": {},
   "outputs": [],
   "source": [
    "rendered = fig1_tree.render('/data/mhoffert/fiererlab/periodic_phyla/figures/group_meeting_figures/fig1_tree.png', tree_style=fig1_ts(tip_data=fig1_data, wavelet_data=fig1_wavelets, trait='Trait 2'), dpi=400) #  w=500, h=500)"
   ]
  },
  {
   "cell_type": "code",
   "execution_count": 11,
   "id": "578f8bc2-73c4-4bfc-8976-1113af3de22b",
   "metadata": {},
   "outputs": [],
   "source": [
    "nodes = [n.name for n in fig1_tree.traverse(strategy='postorder') if not n.is_leaf()]\n",
    "node_postorders = dict((n, i) for n, i in zip(nodes, np.linspace(0, 1, len(nodes))))\n",
    "\n",
    "leaves = [l.name for l in fig1_tree.traverse(strategy='postorder') if l.is_leaf()]\n",
    "leaf_postorders = dict((l, i) for l, i in zip(leaves, np.linspace(0, 1, len(leaves))))"
   ]
  },
  {
   "cell_type": "code",
   "execution_count": 12,
   "id": "bc46c3a8-a096-44ff-aa5e-f048f62637e4",
   "metadata": {},
   "outputs": [],
   "source": [
    "def fig1_post_layout(node, n_po, l_po, color=True):\n",
    "    '''\n",
    "    Layout function for tree generated by collapse_to_phylum\n",
    "    '''\n",
    "    # print(node.name)\n",
    "    internal_ns = NodeStyle()\n",
    "    internal_ns['size'] = 0\n",
    "    # internal_ns['vt_line_width'] = 1\n",
    "    # internal_ns['hz_line_width'] = 1\n",
    "    \n",
    "    cm = matplotlib.colormaps['gnuplot']\n",
    "    \n",
    "    if node.is_leaf():\n",
    "        \n",
    "        c = to_hex(cm(l_po[node.name]))\n",
    "        if color:\n",
    "            R1 = RectFace(width=4, height=4, fgcolor=c, bgcolor=c)\n",
    "            faces.add_face_to_node(R1, node, 0, position='aligned')\n",
    "        \n",
    "    else:\n",
    "        if color:\n",
    "            internal_ns['vt_line_color'] = to_hex(cm(n_po[node.name]))\n",
    "            internal_ns['hz_line_color'] = to_hex(cm(n_po[node.name]))\n",
    "        \n",
    "    node.img_style = internal_ns\n",
    "\n",
    "def fig1_post_ts(**args):\n",
    "    ts = TreeStyle()\n",
    "    ts.layout_fn = lambda n: fig1_post_layout(n, **args)\n",
    "    # ts.mode = 'c'\n",
    "    ts.draw_guiding_lines = True\n",
    "    ts.show_leaf_name = False\n",
    "    ts.branch_vertical_margin = 5\n",
    "    ts.show_scale = False\n",
    "    # ts.scale = 500\n",
    "    return ts"
   ]
  },
  {
   "cell_type": "code",
   "execution_count": 13,
   "id": "292be556-135a-442b-a3ad-de1d59e55018",
   "metadata": {},
   "outputs": [
    {
     "data": {
      "image/png": "[encoded data removed]",
      "text/plain": [
       "<IPython.core.display.Image object>"
      ]
     },
     "execution_count": 13,
     "metadata": {},
     "output_type": "execute_result"
    }
   ],
   "source": [
    "fig1_tree.render('%%inline', tree_style=fig1_post_ts(n_po=node_postorders, l_po=leaf_postorders, color=False), h=500, w=500)"
   ]
  },
  {
   "cell_type": "code",
   "execution_count": 14,
   "id": "e3d3cfeb-29a0-4a5e-9fbb-7226370b08ef",
   "metadata": {},
   "outputs": [],
   "source": [
    "rendered = fig1_tree.render('/data/mhoffert/fiererlab/periodic_phyla/figures/group_meeting_figures/fig1_tree_nolabel.png', \n",
    "                 tree_style=fig1_post_ts(n_po=node_postorders, l_po=leaf_postorders, color=False), \n",
    "                 h=500, w=500)"
   ]
  },
  {
   "cell_type": "code",
   "execution_count": 15,
   "id": "26a70089-8324-473d-834e-b56631de54ee",
   "metadata": {},
   "outputs": [],
   "source": [
    "rendered = fig1_tree.render('/data/mhoffert/fiererlab/periodic_phyla/figures/group_meeting_figures/fig1_tree_nolabel_colored.png', \n",
    "                 tree_style=fig1_post_ts(n_po=node_postorders, l_po=leaf_postorders, color=True), \n",
    "                 h=500, w=500)"
   ]
  },
  {
   "cell_type": "code",
   "execution_count": 16,
   "id": "4de37b10-8622-44e3-ab57-b4d211598333",
   "metadata": {},
   "outputs": [
    {
     "data": {
      "image/png": "[encoded data removed]",
      "text/plain": [
       "<Figure size 720x72 with 1 Axes>"
      ]
     },
     "metadata": {
      "needs_background": "light"
     },
     "output_type": "display_data"
    }
   ],
   "source": [
    "_cmap = cm.gnuplot\n",
    "sns.palplot([_cmap(i) for i in np.linspace(0,1,10)])"
   ]
  },
  {
   "cell_type": "code",
   "execution_count": 17,
   "id": "5a6b22d7-e3e9-483d-a281-94dabf1d141a",
   "metadata": {},
   "outputs": [
    {
     "data": {
      "image/png": "[encoded data removed]",
      "text/plain": [
       "<Figure size 360x432 with 3 Axes>"
      ]
     },
     "metadata": {
      "needs_background": "light"
     },
     "output_type": "display_data"
    }
   ],
   "source": [
    "fig = plt.figure(figsize=(5,6))\n",
    "for color, (i, col) in zip(['r', 'b', 'g'], enumerate(fig1_data.columns)):\n",
    "    ax = fig.add_subplot(1,3,i+1)\n",
    "    plt.scatter(y=range(len(fig1_data)), x=fig1_data.iloc[::-1][col], s=150, color=color)\n",
    "    sns.despine()\n",
    "    ax.set_title(col, fontsize=16)\n",
    "    plt.tick_params(labelleft=False, labelsize=14)\n",
    "    \n",
    "    if i ==2:\n",
    "        ax.set_xlim(-500, 5500)\n",
    "    else:\n",
    "        ax.set_xlim(-0.25, 1.25)\n",
    "plt.savefig('/data/mhoffert/fiererlab/periodic_phyla/figures/group_meeting_figures/fig1_traits.png', bbox_inches='tight', dpi=400)"
   ]
  },
  {
   "cell_type": "code",
   "execution_count": 18,
   "id": "d2dde3ea-f196-458c-a1d5-dfd1ad75f8b9",
   "metadata": {},
   "outputs": [
    {
     "data": {
      "image/png": "[encoded data removed]",
      "text/plain": [
       "<Figure size 432x432 with 3 Axes>"
      ]
     },
     "metadata": {
      "needs_background": "light"
     },
     "output_type": "display_data"
    }
   ],
   "source": [
    "cm = matplotlib.colormaps['gnuplot']\n",
    "\n",
    "fig = plt.figure(figsize=(6,6))\n",
    "for i, col in enumerate(fig1_wavelets):\n",
    "    ax = fig.add_subplot(1,3,i+1)\n",
    "    for yval, (index, item) in enumerate(fig1_wavelets.iloc[::-1][col].items()):\n",
    "        plt.plot((0, item), (yval,) * 2, color=cm(node_postorders[index]), linewidth=5)\n",
    "    sns.despine()\n",
    "    ax.set_title(col, fontsize=16)\n",
    "    plt.tick_params(left=False, labelleft=False, labelsize=14)\n",
    "    xlims = ax.get_xlim()\n",
    "    ax.set_xlim(xlims[0]*1.1, xlims[1]*1.1)\n",
    "    if i == 0:\n",
    "        ax.set_yticks(range(len(fig1_wavelets.iloc[::-1].index)))\n",
    "        ax.set_yticklabels(fig1_wavelets.iloc[::-1].index)\n",
    "        plt.tick_params(left=True, labelleft=True, labelsize=14)\n",
    "    # if i ==2:\n",
    "    #     ax.set_xlim(-500, 5500)\n",
    "    # else:\n",
    "    #     ax.set_xlim(-0.25, 1.25)\n",
    "    \n",
    "fig.subplots_adjust(wspace=0.5)\n",
    "plt.savefig('/data/mhoffert/fiererlab/periodic_phyla/figures/group_meeting_figures/fig1_wavelets.png', bbox_inches='tight', dpi=400)"
   ]
  },
  {
   "cell_type": "code",
   "execution_count": 19,
   "id": "c32c8bc4-555a-45b3-8a63-b963d2a1b26e",
   "metadata": {},
   "outputs": [],
   "source": [
    "from sklearn.manifold import TSNE"
   ]
  },
  {
   "cell_type": "code",
   "execution_count": 20,
   "id": "6cff0974-0740-43cd-a07f-59aca897414b",
   "metadata": {},
   "outputs": [],
   "source": [
    "from scipy.optimize import linear_sum_assignment"
   ]
  },
  {
   "cell_type": "code",
   "execution_count": 21,
   "id": "1c302381-3a03-4214-ba16-77102af98fc4",
   "metadata": {},
   "outputs": [],
   "source": [
    "def gridify(points, grid_size):\n",
    "    # Generate random points in x,y space\n",
    "    np.random.seed(143)  # for reproducibility\n",
    "\n",
    "    locations = np.array(list(itertools.product(range(grid_size), range(grid_size))))\n",
    "\n",
    "    # Define the distance function (squared Euclidean distance)\n",
    "    distance = lambda point, location: np.sum((point - location) ** 2)\n",
    "\n",
    "    # Initialize the cost matrix\n",
    "    cost_matrix = np.zeros((len(points), grid_size**2))\n",
    "\n",
    "    # Populate the cost matrix with distances\n",
    "    for i, point in enumerate(points):\n",
    "        for j, location in enumerate(locations):\n",
    "            cost_matrix[i, j] = distance(point, location)\n",
    "\n",
    "    # Solve the assignment problem to minimize the total distance\n",
    "    row_ind, col_ind = linear_sum_assignment(cost_matrix)\n",
    "\n",
    "    # Assign points to locations based on the optimal solution\n",
    "    assignments = locations[col_ind].reshape(-1, 2)\n",
    "    \n",
    "    return assignments"
   ]
  },
  {
   "cell_type": "code",
   "execution_count": 22,
   "id": "671a9844-e7aa-457f-87a0-bd9d306e4d0a",
   "metadata": {},
   "outputs": [],
   "source": [
    "ilist = ['i04', 'i05', 'i07', 'c10', 'c11', 'i09', 'i10', 'c17', 'c18', 'c19', 'i17']\n",
    "i_map = dict((i, [l.name for l in fig1_tree.search_nodes(name=i)[0].get_leaves()]) for i in ilist)\n",
    "\n",
    "rev_i_map = {}\n",
    "for key, item in i_map.items():\n",
    "    for i in item:\n",
    "        rev_i_map[i] = key\n",
    "\n",
    "fig1_tsne_data = fig1_data.groupby(rev_i_map).mean()"
   ]
  },
  {
   "cell_type": "code",
   "execution_count": 23,
   "id": "a467e14d-7929-45ac-8631-6c00737a339a",
   "metadata": {},
   "outputs": [
    {
     "name": "stdout",
     "output_type": "stream",
     "text": [
      "CPU times: user 12min 17s, sys: 977 ms, total: 12min 18s\n",
      "Wall time: 25.5 s\n"
     ]
    }
   ],
   "source": [
    "%%time\n",
    "tsne_embedding = TSNE(n_components=2, learning_rate='auto',\n",
    "                  init='random', perplexity=3, n_jobs=10).fit_transform(fig1_tsne_data.values)"
   ]
  },
  {
   "cell_type": "code",
   "execution_count": 24,
   "id": "cab700d8-0a87-4ea5-903c-eb83c31b4f29",
   "metadata": {},
   "outputs": [
    {
     "data": {
      "image/png": "[encoded data removed]",
      "text/plain": [
       "<Figure size 288x288 with 1 Axes>"
      ]
     },
     "metadata": {
      "needs_background": "light"
     },
     "output_type": "display_data"
    }
   ],
   "source": [
    "fig, ax = plt.subplots(figsize=(4,4))\n",
    "tsne_plotdf = pd.DataFrame(tsne_embedding, columns=['dim1', 'dim2'], index=fig1_tsne_data.index)\n",
    "sns.scatterplot(data=tsne_plotdf, x='dim1', y='dim2')\n",
    "for index, row in tsne_plotdf.iterrows():\n",
    "    ax.annotate(text=index, xy=(row['dim1'], row['dim2']))"
   ]
  },
  {
   "cell_type": "code",
   "execution_count": 25,
   "id": "e214c113-829c-4093-8f00-f73ae8849f11",
   "metadata": {},
   "outputs": [],
   "source": [
    "grid_size = 4\n",
    "tsne_grid = gridify(tsne_plotdf.values, 4)"
   ]
  },
  {
   "cell_type": "code",
   "execution_count": 26,
   "id": "f2a5b20e-8893-4b45-88bf-7ddfcc37a354",
   "metadata": {},
   "outputs": [],
   "source": [
    "tsne_grid_df = pd.DataFrame(tsne_grid, index=tsne_plotdf.index, columns=['dim1', 'dim2'])"
   ]
  },
  {
   "cell_type": "code",
   "execution_count": 27,
   "id": "821196e4-55d8-41f6-9a04-e2f67ec47e67",
   "metadata": {},
   "outputs": [],
   "source": [
    "grid_spots = np.array(list(itertools.product(np.linspace(tsne_plotdf['dim1'].min(),\n",
    "                             tsne_plotdf['dim1'].max(),\n",
    "                             grid_size),\n",
    "                  np.linspace(tsne_plotdf['dim2'].min(),\n",
    "                             tsne_plotdf['dim2'].max(),\n",
    "                             grid_size)))).reshape(grid_size, grid_size, 2)"
   ]
  },
  {
   "cell_type": "code",
   "execution_count": 28,
   "id": "6d45b815-3fce-4ba2-82a4-1879907abb5c",
   "metadata": {},
   "outputs": [
    {
     "data": {
      "image/png": "[encoded data removed]",
      "text/plain": [
       "<Figure size 288x288 with 1 Axes>"
      ]
     },
     "metadata": {
      "needs_background": "light"
     },
     "output_type": "display_data"
    }
   ],
   "source": [
    "# plot to visualizing snapping\n",
    "fig, ax = plt.subplots(figsize=(4,4))\n",
    "sns.scatterplot(data=tsne_plotdf, x='dim1', y='dim2')\n",
    "for index, row in tsne_grid_df.iterrows():\n",
    "    grid_x, grid_y = grid_spots[tsne_grid_df.loc[index, 'dim1']][tsne_grid_df.loc[index, 'dim2']]\n",
    "    plt.plot((grid_x, tsne_plotdf.loc[index, 'dim1']),\n",
    "             (grid_y, tsne_plotdf.loc[index, 'dim2']), color='gray', linewidth=0.25, zorder=0)\n",
    "    ax.annotate(index, (grid_x, grid_y))\n",
    "# assignments"
   ]
  },
  {
   "cell_type": "code",
   "execution_count": null,
   "id": "5a5eadc5-9f30-4949-8bd6-b363d20628d0",
   "metadata": {},
   "outputs": [],
   "source": []
  },
  {
   "cell_type": "code",
   "execution_count": null,
   "id": "d3e7fa2d-b1b2-48a9-8ac7-74a0419b5671",
   "metadata": {},
   "outputs": [],
   "source": []
  }
 ],
 "metadata": {
  "kernelspec": {
   "display_name": "Python 3 (ipykernel)",
   "language": "python",
   "name": "python3"
  },
  "language_info": {
   "codemirror_mode": {
    "name": "ipython",
    "version": 3
   },
   "file_extension": ".py",
   "mimetype": "text/x-python",
   "name": "python",
   "nbconvert_exporter": "python",
   "pygments_lexer": "ipython3",
   "version": "3.10.10"
  }
 },
 "nbformat": 4,
 "nbformat_minor": 5
}
